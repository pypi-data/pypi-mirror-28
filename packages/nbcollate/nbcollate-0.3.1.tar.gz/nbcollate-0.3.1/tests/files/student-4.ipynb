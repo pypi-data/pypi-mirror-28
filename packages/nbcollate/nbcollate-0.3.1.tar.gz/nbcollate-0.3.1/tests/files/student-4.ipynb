{
  "cells": [
    {
      "cell_type": "markdown",
      "source": [
        "# Notebook Title\n",
        "\nNotebook description."
      ],
      "metadata": {}
    },
    {
      "cell_type": "markdown",
      "source": [
        "## Question 2\n",
        "\nQuestion 2 text."
      ],
      "metadata": {}
    },
    {
      "cell_type": "code",
      "source": [
        "print(\"Student 4 answers question 2.\")"
      ],
      "outputs": [
        {
          "output_type": "stream",
          "name": "stdout",
          "text": [
            "Student 4 answers question 2.\n"
          ]
        }
      ],
      "execution_count": 1,
      "metadata": {
        "collapsed": false
      }
    },
    {
      "cell_type": "markdown",
      "source": [
        "## A Quick Poll\n",
        "\nIn the space below, say something."
      ],
      "metadata": {
        "collapsed": true
      }
    },
    {
      "cell_type": "markdown",
      "source": [],
      "metadata": {}
    }
  ],
  "metadata": {
    "anaconda-cloud": {},
    "kernelspec": {
      "name": "python3",
      "language": "python",
      "display_name": "Python 3"
    },
    "language_info": {
      "name": "python",
      "version": "3.6.4",
      "mimetype": "text/x-python",
      "codemirror_mode": {
        "name": "ipython",
        "version": 3
      },
      "pygments_lexer": "ipython3",
      "nbconvert_exporter": "python",
      "file_extension": ".py"
    },
    "kernel_info": {
      "name": "python3"
    }
  },
  "nbformat": 4,
  "nbformat_minor": 0
}