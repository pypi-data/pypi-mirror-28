{
  "cells": [
    {
      "cell_type": "markdown",
      "source": [
        "# Notebook Title\n",
        "\nNotebook description."
      ],
      "metadata": {}
    },
    {
      "cell_type": "markdown",
      "source": [
        "## Question 1\n",
        "\nQuestion 1 text."
      ],
      "metadata": {}
    },
    {
      "cell_type": "code",
      "source": [
        "print(\"Q1 answer A.\")"
      ],
      "outputs": [
        {
          "output_type": "stream",
          "name": "stdout",
          "text": [
            "Q1 answer A.\n"
          ]
        }
      ],
      "execution_count": 2,
      "metadata": {
        "collapsed": false
      }
    },
    {
      "cell_type": "markdown",
      "source": [
        "## Question 2\n",
        "\nQuestion 2 text."
      ],
      "metadata": {}
    },
    {
      "cell_type": "code",
      "source": [
        "print(\"Q2 answer A.\")"
      ],
      "outputs": [
        {
          "output_type": "stream",
          "name": "stdout",
          "text": [
            "Q2 answer A.\n"
          ]
        }
      ],
      "execution_count": 1,
      "metadata": {
        "collapsed": false
      }
    }
  ],
  "metadata": {
    "anaconda-cloud": {},
    "kernelspec": {
      "name": "python3",
      "language": "python",
      "display_name": "Python 3"
    },
    "language_info": {
      "name": "python",
      "version": "3.6.4",
      "mimetype": "text/x-python",
      "codemirror_mode": {
        "name": "ipython",
        "version": 3
      },
      "pygments_lexer": "ipython3",
      "nbconvert_exporter": "python",
      "file_extension": ".py"
    },
    "kernel_info": {
      "name": "python3"
    }
  },
  "nbformat": 4,
  "nbformat_minor": 0
}