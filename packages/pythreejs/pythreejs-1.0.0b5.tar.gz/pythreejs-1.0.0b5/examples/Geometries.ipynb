{
 "cells": [
  {
   "cell_type": "markdown",
   "metadata": {},
   "source": [
    "# Geometry types"
   ]
  },
  {
   "cell_type": "code",
   "execution_count": 1,
   "metadata": {},
   "outputs": [],
   "source": [
    "from pythreejs import *\n",
    "from IPython.display import display\n",
    "from math import pi"
   ]
  },
  {
   "cell_type": "code",
   "execution_count": 2,
   "metadata": {},
   "outputs": [
    {
     "data": {
      "application/vnd.jupyter.widget-view+json": {
       "model_id": "c0a6d80e32e04b8e9ecb513a97c29c44",
       "version_major": 2,
       "version_minor": 0
      },
      "text/html": [
       "<p>Failed to display Jupyter Widget of type <code>Preview</code>.</p>\n",
       "<p>\n",
       "  If you're reading this message in the Jupyter Notebook or JupyterLab Notebook, it may mean\n",
       "  that the widgets JavaScript is still loading. If this message persists, it\n",
       "  likely means that the widgets JavaScript library is either not installed or\n",
       "  not enabled. See the <a href=\"https://ipywidgets.readthedocs.io/en/stable/user_install.html\">Jupyter\n",
       "  Widgets Documentation</a> for setup instructions.\n",
       "</p>\n",
       "<p>\n",
       "  If you're reading this message in another frontend (for example, a static\n",
       "  rendering on GitHub or <a href=\"https://nbviewer.jupyter.org/\">NBViewer</a>),\n",
       "  it may mean that your frontend doesn't currently support widgets.\n",
       "</p>\n"
      ],
      "text/plain": [
       "Preview(child=BoxGeometry(depth=15.0, depthSegments=15, height=10.0, heightSegments=10, width=5.0, widthSegments=5), shadowMap=WebGLShadowMap())"
      ]
     },
     "metadata": {},
     "output_type": "display_data"
    }
   ],
   "source": [
    "BoxGeometry(\n",
    "    width=5, \n",
    "    height=10, \n",
    "    depth=15,\n",
    "    widthSegments=5, \n",
    "    heightSegments=10,\n",
    "    depthSegments=15)"
   ]
  },
  {
   "cell_type": "code",
   "execution_count": 3,
   "metadata": {},
   "outputs": [
    {
     "data": {
      "application/vnd.jupyter.widget-view+json": {
       "model_id": "dd84ce98756e4f30988caebe9c36c439",
       "version_major": 2,
       "version_minor": 0
      },
      "text/html": [
       "<p>Failed to display Jupyter Widget of type <code>Preview</code>.</p>\n",
       "<p>\n",
       "  If you're reading this message in the Jupyter Notebook or JupyterLab Notebook, it may mean\n",
       "  that the widgets JavaScript is still loading. If this message persists, it\n",
       "  likely means that the widgets JavaScript library is either not installed or\n",
       "  not enabled. See the <a href=\"https://ipywidgets.readthedocs.io/en/stable/user_install.html\">Jupyter\n",
       "  Widgets Documentation</a> for setup instructions.\n",
       "</p>\n",
       "<p>\n",
       "  If you're reading this message in another frontend (for example, a static\n",
       "  rendering on GitHub or <a href=\"https://nbviewer.jupyter.org/\">NBViewer</a>),\n",
       "  it may mean that your frontend doesn't currently support widgets.\n",
       "</p>\n"
      ],
      "text/plain": [
       "Preview(child=BoxBufferGeometry(depth=15.0, depthSegments=15, height=10.0, heightSegments=10, width=5.0, widthSegments=5), shadowMap=WebGLShadowMap())"
      ]
     },
     "metadata": {},
     "output_type": "display_data"
    }
   ],
   "source": [
    "BoxBufferGeometry(\n",
    "    width=5, \n",
    "    height=10, \n",
    "    depth=15,\n",
    "    widthSegments=5, \n",
    "    heightSegments=10,\n",
    "    depthSegments=15)"
   ]
  },
  {
   "cell_type": "code",
   "execution_count": 4,
   "metadata": {},
   "outputs": [
    {
     "data": {
      "application/vnd.jupyter.widget-view+json": {
       "model_id": "aabb3f3575dd43b4877c02b6e5707a3d",
       "version_major": 2,
       "version_minor": 0
      },
      "text/html": [
       "<p>Failed to display Jupyter Widget of type <code>Preview</code>.</p>\n",
       "<p>\n",
       "  If you're reading this message in the Jupyter Notebook or JupyterLab Notebook, it may mean\n",
       "  that the widgets JavaScript is still loading. If this message persists, it\n",
       "  likely means that the widgets JavaScript library is either not installed or\n",
       "  not enabled. See the <a href=\"https://ipywidgets.readthedocs.io/en/stable/user_install.html\">Jupyter\n",
       "  Widgets Documentation</a> for setup instructions.\n",
       "</p>\n",
       "<p>\n",
       "  If you're reading this message in another frontend (for example, a static\n",
       "  rendering on GitHub or <a href=\"https://nbviewer.jupyter.org/\">NBViewer</a>),\n",
       "  it may mean that your frontend doesn't currently support widgets.\n",
       "</p>\n"
      ],
      "text/plain": [
       "Preview(child=CircleGeometry(radius=10.0, segments=10, thetaLength=5.0, thetaStart=0.25), shadowMap=WebGLShadowMap())"
      ]
     },
     "metadata": {},
     "output_type": "display_data"
    }
   ],
   "source": [
    "CircleGeometry(\n",
    "    radius=10,\n",
    "    segments=10,\n",
    "    thetaStart=0.25,\n",
    "    thetaLength=5.0)"
   ]
  },
  {
   "cell_type": "code",
   "execution_count": 5,
   "metadata": {},
   "outputs": [
    {
     "data": {
      "application/vnd.jupyter.widget-view+json": {
       "model_id": "5e77925146584791b54d8a375913c6a7",
       "version_major": 2,
       "version_minor": 0
      },
      "text/html": [
       "<p>Failed to display Jupyter Widget of type <code>Preview</code>.</p>\n",
       "<p>\n",
       "  If you're reading this message in the Jupyter Notebook or JupyterLab Notebook, it may mean\n",
       "  that the widgets JavaScript is still loading. If this message persists, it\n",
       "  likely means that the widgets JavaScript library is either not installed or\n",
       "  not enabled. See the <a href=\"https://ipywidgets.readthedocs.io/en/stable/user_install.html\">Jupyter\n",
       "  Widgets Documentation</a> for setup instructions.\n",
       "</p>\n",
       "<p>\n",
       "  If you're reading this message in another frontend (for example, a static\n",
       "  rendering on GitHub or <a href=\"https://nbviewer.jupyter.org/\">NBViewer</a>),\n",
       "  it may mean that your frontend doesn't currently support widgets.\n",
       "</p>\n"
      ],
      "text/plain": [
       "Preview(child=CircleBufferGeometry(radius=10.0, segments=10, thetaLength=5.0, thetaStart=0.25), shadowMap=WebGLShadowMap())"
      ]
     },
     "metadata": {},
     "output_type": "display_data"
    }
   ],
   "source": [
    "CircleBufferGeometry(\n",
    "    radius=10,\n",
    "    segments=10,\n",
    "    thetaStart=0.25,\n",
    "    thetaLength=5.0)"
   ]
  },
  {
   "cell_type": "code",
   "execution_count": 6,
   "metadata": {},
   "outputs": [
    {
     "data": {
      "application/vnd.jupyter.widget-view+json": {
       "model_id": "6820dfcf32b347cbb550e6817108480f",
       "version_major": 2,
       "version_minor": 0
      },
      "text/html": [
       "<p>Failed to display Jupyter Widget of type <code>Preview</code>.</p>\n",
       "<p>\n",
       "  If you're reading this message in the Jupyter Notebook or JupyterLab Notebook, it may mean\n",
       "  that the widgets JavaScript is still loading. If this message persists, it\n",
       "  likely means that the widgets JavaScript library is either not installed or\n",
       "  not enabled. See the <a href=\"https://ipywidgets.readthedocs.io/en/stable/user_install.html\">Jupyter\n",
       "  Widgets Documentation</a> for setup instructions.\n",
       "</p>\n",
       "<p>\n",
       "  If you're reading this message in another frontend (for example, a static\n",
       "  rendering on GitHub or <a href=\"https://nbviewer.jupyter.org/\">NBViewer</a>),\n",
       "  it may mean that your frontend doesn't currently support widgets.\n",
       "</p>\n"
      ],
      "text/plain": [
       "Preview(child=CylinderGeometry(height=15.0, heightSegments=10, radiusBottom=10.0, radiusTop=5.0), shadowMap=WebGLShadowMap())"
      ]
     },
     "metadata": {},
     "output_type": "display_data"
    }
   ],
   "source": [
    "CylinderGeometry(\n",
    "    radiusTop=5, \n",
    "    radiusBottom=10, \n",
    "    height=15, \n",
    "    radialSegments=6, \n",
    "    heightSegments=10, \n",
    "    openEnded=False, \n",
    "    thetaStart=0, \n",
    "    thetaLength=2.0*pi)"
   ]
  },
  {
   "cell_type": "code",
   "execution_count": 7,
   "metadata": {},
   "outputs": [
    {
     "data": {
      "application/vnd.jupyter.widget-view+json": {
       "model_id": "d28fa3cf072f4ccd8b8c8bd2646dabb8",
       "version_major": 2,
       "version_minor": 0
      },
      "text/html": [
       "<p>Failed to display Jupyter Widget of type <code>Preview</code>.</p>\n",
       "<p>\n",
       "  If you're reading this message in the Jupyter Notebook or JupyterLab Notebook, it may mean\n",
       "  that the widgets JavaScript is still loading. If this message persists, it\n",
       "  likely means that the widgets JavaScript library is either not installed or\n",
       "  not enabled. See the <a href=\"https://ipywidgets.readthedocs.io/en/stable/user_install.html\">Jupyter\n",
       "  Widgets Documentation</a> for setup instructions.\n",
       "</p>\n",
       "<p>\n",
       "  If you're reading this message in another frontend (for example, a static\n",
       "  rendering on GitHub or <a href=\"https://nbviewer.jupyter.org/\">NBViewer</a>),\n",
       "  it may mean that your frontend doesn't currently support widgets.\n",
       "</p>\n"
      ],
      "text/plain": [
       "Preview(child=CylinderBufferGeometry(height=15.0, heightSegments=10, radiusBottom=10.0, radiusTop=5.0), shadowMap=WebGLShadowMap())"
      ]
     },
     "metadata": {},
     "output_type": "display_data"
    }
   ],
   "source": [
    "CylinderBufferGeometry(\n",
    "    radiusTop=5, \n",
    "    radiusBottom=10, \n",
    "    height=15, \n",
    "    radialSegments=6, \n",
    "    heightSegments=10, \n",
    "    openEnded=False, \n",
    "    thetaStart=0, \n",
    "    thetaLength=2.0*pi)"
   ]
  },
  {
   "cell_type": "code",
   "execution_count": 8,
   "metadata": {},
   "outputs": [
    {
     "data": {
      "application/vnd.jupyter.widget-view+json": {
       "model_id": "37c530393ec14198bcc09c440d81d0b4",
       "version_major": 2,
       "version_minor": 0
      },
      "text/html": [
       "<p>Failed to display Jupyter Widget of type <code>Preview</code>.</p>\n",
       "<p>\n",
       "  If you're reading this message in the Jupyter Notebook or JupyterLab Notebook, it may mean\n",
       "  that the widgets JavaScript is still loading. If this message persists, it\n",
       "  likely means that the widgets JavaScript library is either not installed or\n",
       "  not enabled. See the <a href=\"https://ipywidgets.readthedocs.io/en/stable/user_install.html\">Jupyter\n",
       "  Widgets Documentation</a> for setup instructions.\n",
       "</p>\n",
       "<p>\n",
       "  If you're reading this message in another frontend (for example, a static\n",
       "  rendering on GitHub or <a href=\"https://nbviewer.jupyter.org/\">NBViewer</a>),\n",
       "  it may mean that your frontend doesn't currently support widgets.\n",
       "</p>\n"
      ],
      "text/plain": [
       "Preview(child=DodecahedronGeometry(radius=10.0), shadowMap=WebGLShadowMap())"
      ]
     },
     "metadata": {},
     "output_type": "display_data"
    }
   ],
   "source": [
    "DodecahedronGeometry(radius=10, detail=0, _flat=True)"
   ]
  },
  {
   "cell_type": "code",
   "execution_count": 9,
   "metadata": {},
   "outputs": [],
   "source": [
    "# TODO:\n",
    "# EdgesGeometry(...)"
   ]
  },
  {
   "cell_type": "code",
   "execution_count": 10,
   "metadata": {},
   "outputs": [],
   "source": [
    "# TODO:\n",
    "# ExtrudeGeometry(...)"
   ]
  },
  {
   "cell_type": "code",
   "execution_count": 11,
   "metadata": {},
   "outputs": [
    {
     "data": {
      "application/vnd.jupyter.widget-view+json": {
       "model_id": "7e75685b60a24f0688812ba6c0830aee",
       "version_major": 2,
       "version_minor": 0
      },
      "text/html": [
       "<p>Failed to display Jupyter Widget of type <code>Preview</code>.</p>\n",
       "<p>\n",
       "  If you're reading this message in the Jupyter Notebook or JupyterLab Notebook, it may mean\n",
       "  that the widgets JavaScript is still loading. If this message persists, it\n",
       "  likely means that the widgets JavaScript library is either not installed or\n",
       "  not enabled. See the <a href=\"https://ipywidgets.readthedocs.io/en/stable/user_install.html\">Jupyter\n",
       "  Widgets Documentation</a> for setup instructions.\n",
       "</p>\n",
       "<p>\n",
       "  If you're reading this message in another frontend (for example, a static\n",
       "  rendering on GitHub or <a href=\"https://nbviewer.jupyter.org/\">NBViewer</a>),\n",
       "  it may mean that your frontend doesn't currently support widgets.\n",
       "</p>\n"
      ],
      "text/plain": [
       "Preview(child=IcosahedronGeometry(radius=10.0), shadowMap=WebGLShadowMap())"
      ]
     },
     "metadata": {},
     "output_type": "display_data"
    }
   ],
   "source": [
    "IcosahedronGeometry(radius=10, _flat=True)"
   ]
  },
  {
   "cell_type": "code",
   "execution_count": 12,
   "metadata": {},
   "outputs": [
    {
     "data": {
      "application/vnd.jupyter.widget-view+json": {
       "model_id": "0e0abf794f07487ba5a509c6e0cae629",
       "version_major": 2,
       "version_minor": 0
      },
      "text/html": [
       "<p>Failed to display Jupyter Widget of type <code>Preview</code>.</p>\n",
       "<p>\n",
       "  If you're reading this message in the Jupyter Notebook or JupyterLab Notebook, it may mean\n",
       "  that the widgets JavaScript is still loading. If this message persists, it\n",
       "  likely means that the widgets JavaScript library is either not installed or\n",
       "  not enabled. See the <a href=\"https://ipywidgets.readthedocs.io/en/stable/user_install.html\">Jupyter\n",
       "  Widgets Documentation</a> for setup instructions.\n",
       "</p>\n",
       "<p>\n",
       "  If you're reading this message in another frontend (for example, a static\n",
       "  rendering on GitHub or <a href=\"https://nbviewer.jupyter.org/\">NBViewer</a>),\n",
       "  it may mean that your frontend doesn't currently support widgets.\n",
       "</p>\n"
      ],
      "text/plain": [
       "Preview(child=LatheBufferGeometry(points=[[0, -10, 0], [10, -5, 0], [5, 5, 0], [0, 10, 0]], segments=16), shadowMap=WebGLShadowMap())"
      ]
     },
     "metadata": {},
     "output_type": "display_data"
    }
   ],
   "source": [
    "LatheBufferGeometry(\n",
    "    points=[\n",
    "        [ 0, -10, 0 ],\n",
    "        [ 10, -5, 0 ],\n",
    "        [ 5, 5, 0 ],\n",
    "        [ 0, 10, 0 ]\n",
    "    ],\n",
    "    segments=16,\n",
    "    phiStart=0.0,\n",
    "    phiLength=2.0*pi, _flat=True)"
   ]
  },
  {
   "cell_type": "code",
   "execution_count": 13,
   "metadata": {},
   "outputs": [
    {
     "data": {
      "application/vnd.jupyter.widget-view+json": {
       "model_id": "be34347f79d541f5aecc724c1709dbe1",
       "version_major": 2,
       "version_minor": 0
      },
      "text/html": [
       "<p>Failed to display Jupyter Widget of type <code>Preview</code>.</p>\n",
       "<p>\n",
       "  If you're reading this message in the Jupyter Notebook or JupyterLab Notebook, it may mean\n",
       "  that the widgets JavaScript is still loading. If this message persists, it\n",
       "  likely means that the widgets JavaScript library is either not installed or\n",
       "  not enabled. See the <a href=\"https://ipywidgets.readthedocs.io/en/stable/user_install.html\">Jupyter\n",
       "  Widgets Documentation</a> for setup instructions.\n",
       "</p>\n",
       "<p>\n",
       "  If you're reading this message in another frontend (for example, a static\n",
       "  rendering on GitHub or <a href=\"https://nbviewer.jupyter.org/\">NBViewer</a>),\n",
       "  it may mean that your frontend doesn't currently support widgets.\n",
       "</p>\n"
      ],
      "text/plain": [
       "Preview(child=OctahedronGeometry(radius=10.0), shadowMap=WebGLShadowMap())"
      ]
     },
     "metadata": {},
     "output_type": "display_data"
    }
   ],
   "source": [
    "OctahedronGeometry(radius=10, detail=0, _flat=True)"
   ]
  },
  {
   "cell_type": "code",
   "execution_count": 14,
   "metadata": {},
   "outputs": [
    {
     "data": {
      "application/vnd.jupyter.widget-view+json": {
       "model_id": "fff3cac17f074f139ffa650ea971089c",
       "version_major": 2,
       "version_minor": 0
      },
      "text/html": [
       "<p>Failed to display Jupyter Widget of type <code>Preview</code>.</p>\n",
       "<p>\n",
       "  If you're reading this message in the Jupyter Notebook or JupyterLab Notebook, it may mean\n",
       "  that the widgets JavaScript is still loading. If this message persists, it\n",
       "  likely means that the widgets JavaScript library is either not installed or\n",
       "  not enabled. See the <a href=\"https://ipywidgets.readthedocs.io/en/stable/user_install.html\">Jupyter\n",
       "  Widgets Documentation</a> for setup instructions.\n",
       "</p>\n",
       "<p>\n",
       "  If you're reading this message in another frontend (for example, a static\n",
       "  rendering on GitHub or <a href=\"https://nbviewer.jupyter.org/\">NBViewer</a>),\n",
       "  it may mean that your frontend doesn't currently support widgets.\n",
       "</p>\n"
      ],
      "text/plain": [
       "Preview(child=ParametricGeometry(func='function(u,v) { \\n        var x = 5 * (0.5 - u);\\n        var y = 5 * (0.5 - v);\\n        return new THREE.Vector3(10 * x, 10 * y, x*x - y*y); \\n    }', slices=5, stacks=10), shadowMap=WebGLShadowMap())"
      ]
     },
     "metadata": {},
     "output_type": "display_data"
    }
   ],
   "source": [
    "ParametricGeometry(\n",
    "    func=\"\"\"function(u,v) { \n",
    "        var x = 5 * (0.5 - u);\n",
    "        var y = 5 * (0.5 - v);\n",
    "        return new THREE.Vector3(10 * x, 10 * y, x*x - y*y); \n",
    "    }\"\"\",\n",
    "    slices=5,\n",
    "    stacks=10, _flat=True)"
   ]
  },
  {
   "cell_type": "code",
   "execution_count": 15,
   "metadata": {},
   "outputs": [
    {
     "data": {
      "application/vnd.jupyter.widget-view+json": {
       "model_id": "565a42ada56a456b80d4a9411a9c7808",
       "version_major": 2,
       "version_minor": 0
      },
      "text/html": [
       "<p>Failed to display Jupyter Widget of type <code>Preview</code>.</p>\n",
       "<p>\n",
       "  If you're reading this message in the Jupyter Notebook or JupyterLab Notebook, it may mean\n",
       "  that the widgets JavaScript is still loading. If this message persists, it\n",
       "  likely means that the widgets JavaScript library is either not installed or\n",
       "  not enabled. See the <a href=\"https://ipywidgets.readthedocs.io/en/stable/user_install.html\">Jupyter\n",
       "  Widgets Documentation</a> for setup instructions.\n",
       "</p>\n",
       "<p>\n",
       "  If you're reading this message in another frontend (for example, a static\n",
       "  rendering on GitHub or <a href=\"https://nbviewer.jupyter.org/\">NBViewer</a>),\n",
       "  it may mean that your frontend doesn't currently support widgets.\n",
       "</p>\n"
      ],
      "text/plain": [
       "Preview(child=PlaneGeometry(height=15.0, heightSegments=10, width=10.0, widthSegments=5), shadowMap=WebGLShadowMap())"
      ]
     },
     "metadata": {},
     "output_type": "display_data"
    }
   ],
   "source": [
    "PlaneGeometry(\n",
    "    width=10,\n",
    "    height=15,\n",
    "    widthSegments=5,\n",
    "    heightSegments=10)"
   ]
  },
  {
   "cell_type": "code",
   "execution_count": 16,
   "metadata": {},
   "outputs": [
    {
     "data": {
      "application/vnd.jupyter.widget-view+json": {
       "model_id": "e6b4f575041e427cb0206d0d5da15cf3",
       "version_major": 2,
       "version_minor": 0
      },
      "text/html": [
       "<p>Failed to display Jupyter Widget of type <code>Preview</code>.</p>\n",
       "<p>\n",
       "  If you're reading this message in the Jupyter Notebook or JupyterLab Notebook, it may mean\n",
       "  that the widgets JavaScript is still loading. If this message persists, it\n",
       "  likely means that the widgets JavaScript library is either not installed or\n",
       "  not enabled. See the <a href=\"https://ipywidgets.readthedocs.io/en/stable/user_install.html\">Jupyter\n",
       "  Widgets Documentation</a> for setup instructions.\n",
       "</p>\n",
       "<p>\n",
       "  If you're reading this message in another frontend (for example, a static\n",
       "  rendering on GitHub or <a href=\"https://nbviewer.jupyter.org/\">NBViewer</a>),\n",
       "  it may mean that your frontend doesn't currently support widgets.\n",
       "</p>\n"
      ],
      "text/plain": [
       "Preview(child=PlaneBufferGeometry(height=15.0, heightSegments=10, width=10.0, widthSegments=5), shadowMap=WebGLShadowMap())"
      ]
     },
     "metadata": {},
     "output_type": "display_data"
    }
   ],
   "source": [
    "PlaneBufferGeometry(\n",
    "    width=10,\n",
    "    height=15,\n",
    "    widthSegments=5,\n",
    "    heightSegments=10)"
   ]
  },
  {
   "cell_type": "code",
   "execution_count": 17,
   "metadata": {},
   "outputs": [],
   "source": [
    "# TODO\n",
    "# PolyhedronGeometry(...)"
   ]
  },
  {
   "cell_type": "code",
   "execution_count": 18,
   "metadata": {},
   "outputs": [
    {
     "data": {
      "application/vnd.jupyter.widget-view+json": {
       "model_id": "01e3f1a9fd4a4906ae372cda59e743b6",
       "version_major": 2,
       "version_minor": 0
      },
      "text/html": [
       "<p>Failed to display Jupyter Widget of type <code>Preview</code>.</p>\n",
       "<p>\n",
       "  If you're reading this message in the Jupyter Notebook or JupyterLab Notebook, it may mean\n",
       "  that the widgets JavaScript is still loading. If this message persists, it\n",
       "  likely means that the widgets JavaScript library is either not installed or\n",
       "  not enabled. See the <a href=\"https://ipywidgets.readthedocs.io/en/stable/user_install.html\">Jupyter\n",
       "  Widgets Documentation</a> for setup instructions.\n",
       "</p>\n",
       "<p>\n",
       "  If you're reading this message in another frontend (for example, a static\n",
       "  rendering on GitHub or <a href=\"https://nbviewer.jupyter.org/\">NBViewer</a>),\n",
       "  it may mean that your frontend doesn't currently support widgets.\n",
       "</p>\n"
      ],
      "text/plain": [
       "Preview(child=RingGeometry(innerRadius=10.0, outerRadius=25.0, phiSegments=12), shadowMap=WebGLShadowMap())"
      ]
     },
     "metadata": {},
     "output_type": "display_data"
    }
   ],
   "source": [
    "# TODO: issues when radius is 0...\n",
    "RingGeometry(\n",
    "    innerRadius=10,\n",
    "    outerRadius=25,\n",
    "    thetaSegments=8,\n",
    "    phiSegments=12,\n",
    "    thetaStart=0,\n",
    "    thetaLength=6.283185307179586)"
   ]
  },
  {
   "cell_type": "code",
   "execution_count": 19,
   "metadata": {},
   "outputs": [
    {
     "data": {
      "application/vnd.jupyter.widget-view+json": {
       "model_id": "86f97aebb6454a2f9a245cc2bc6e11d3",
       "version_major": 2,
       "version_minor": 0
      },
      "text/html": [
       "<p>Failed to display Jupyter Widget of type <code>Preview</code>.</p>\n",
       "<p>\n",
       "  If you're reading this message in the Jupyter Notebook or JupyterLab Notebook, it may mean\n",
       "  that the widgets JavaScript is still loading. If this message persists, it\n",
       "  likely means that the widgets JavaScript library is either not installed or\n",
       "  not enabled. See the <a href=\"https://ipywidgets.readthedocs.io/en/stable/user_install.html\">Jupyter\n",
       "  Widgets Documentation</a> for setup instructions.\n",
       "</p>\n",
       "<p>\n",
       "  If you're reading this message in another frontend (for example, a static\n",
       "  rendering on GitHub or <a href=\"https://nbviewer.jupyter.org/\">NBViewer</a>),\n",
       "  it may mean that your frontend doesn't currently support widgets.\n",
       "</p>\n"
      ],
      "text/plain": [
       "Preview(child=RingBufferGeometry(innerRadius=10.0, outerRadius=25.0, phiSegments=12), shadowMap=WebGLShadowMap())"
      ]
     },
     "metadata": {},
     "output_type": "display_data"
    }
   ],
   "source": [
    "# TODO: issues when radius is 0...\n",
    "RingBufferGeometry(\n",
    "    innerRadius=10,\n",
    "    outerRadius=25,\n",
    "    thetaSegments=8,\n",
    "    phiSegments=12,\n",
    "    thetaStart=0,\n",
    "    thetaLength=6.283185307179586)"
   ]
  },
  {
   "cell_type": "code",
   "execution_count": 20,
   "metadata": {},
   "outputs": [],
   "source": [
    "# TODO\n",
    "# ShapeGeometry(...)"
   ]
  },
  {
   "cell_type": "code",
   "execution_count": 21,
   "metadata": {},
   "outputs": [
    {
     "data": {
      "application/vnd.jupyter.widget-view+json": {
       "model_id": "c8c9be3dcd5b46f9a7c6cbb48e1a6537",
       "version_major": 2,
       "version_minor": 0
      },
      "text/html": [
       "<p>Failed to display Jupyter Widget of type <code>Preview</code>.</p>\n",
       "<p>\n",
       "  If you're reading this message in the Jupyter Notebook or JupyterLab Notebook, it may mean\n",
       "  that the widgets JavaScript is still loading. If this message persists, it\n",
       "  likely means that the widgets JavaScript library is either not installed or\n",
       "  not enabled. See the <a href=\"https://ipywidgets.readthedocs.io/en/stable/user_install.html\">Jupyter\n",
       "  Widgets Documentation</a> for setup instructions.\n",
       "</p>\n",
       "<p>\n",
       "  If you're reading this message in another frontend (for example, a static\n",
       "  rendering on GitHub or <a href=\"https://nbviewer.jupyter.org/\">NBViewer</a>),\n",
       "  it may mean that your frontend doesn't currently support widgets.\n",
       "</p>\n"
      ],
      "text/plain": [
       "Preview(child=SphereGeometry(phiLength=4.71238898038469, radius=20.0, thetaLength=2.0943951023931953), shadowMap=WebGLShadowMap())"
      ]
     },
     "metadata": {},
     "output_type": "display_data"
    }
   ],
   "source": [
    "SphereGeometry(\n",
    "    radius=20,\n",
    "    widthSegments=8,\n",
    "    heightSegments=6,\n",
    "    phiStart=0,\n",
    "    phiLength=1.5*pi,\n",
    "    thetaStart=0,\n",
    "    thetaLength=2.0*pi/3.0)"
   ]
  },
  {
   "cell_type": "code",
   "execution_count": 22,
   "metadata": {},
   "outputs": [
    {
     "data": {
      "application/vnd.jupyter.widget-view+json": {
       "model_id": "77a3cf9121f1447494dd154bd4864fd6",
       "version_major": 2,
       "version_minor": 0
      },
      "text/html": [
       "<p>Failed to display Jupyter Widget of type <code>Preview</code>.</p>\n",
       "<p>\n",
       "  If you're reading this message in the Jupyter Notebook or JupyterLab Notebook, it may mean\n",
       "  that the widgets JavaScript is still loading. If this message persists, it\n",
       "  likely means that the widgets JavaScript library is either not installed or\n",
       "  not enabled. See the <a href=\"https://ipywidgets.readthedocs.io/en/stable/user_install.html\">Jupyter\n",
       "  Widgets Documentation</a> for setup instructions.\n",
       "</p>\n",
       "<p>\n",
       "  If you're reading this message in another frontend (for example, a static\n",
       "  rendering on GitHub or <a href=\"https://nbviewer.jupyter.org/\">NBViewer</a>),\n",
       "  it may mean that your frontend doesn't currently support widgets.\n",
       "</p>\n"
      ],
      "text/plain": [
       "Preview(child=SphereBufferGeometry(phiLength=4.71238898038469, radius=20.0, thetaLength=2.0943951023931953), shadowMap=WebGLShadowMap())"
      ]
     },
     "metadata": {},
     "output_type": "display_data"
    }
   ],
   "source": [
    "SphereBufferGeometry(\n",
    "    radius=20,\n",
    "    widthSegments=8,\n",
    "    heightSegments=6,\n",
    "    phiStart=0,\n",
    "    phiLength=1.5*pi,\n",
    "    thetaStart=0,\n",
    "    thetaLength=2.0*pi/3.0)"
   ]
  },
  {
   "cell_type": "code",
   "execution_count": 23,
   "metadata": {},
   "outputs": [
    {
     "data": {
      "application/vnd.jupyter.widget-view+json": {
       "model_id": "6d64193f1fb24bcaa3657b726a8f6134",
       "version_major": 2,
       "version_minor": 0
      },
      "text/html": [
       "<p>Failed to display Jupyter Widget of type <code>Preview</code>.</p>\n",
       "<p>\n",
       "  If you're reading this message in the Jupyter Notebook or JupyterLab Notebook, it may mean\n",
       "  that the widgets JavaScript is still loading. If this message persists, it\n",
       "  likely means that the widgets JavaScript library is either not installed or\n",
       "  not enabled. See the <a href=\"https://ipywidgets.readthedocs.io/en/stable/user_install.html\">Jupyter\n",
       "  Widgets Documentation</a> for setup instructions.\n",
       "</p>\n",
       "<p>\n",
       "  If you're reading this message in another frontend (for example, a static\n",
       "  rendering on GitHub or <a href=\"https://nbviewer.jupyter.org/\">NBViewer</a>),\n",
       "  it may mean that your frontend doesn't currently support widgets.\n",
       "</p>\n"
      ],
      "text/plain": [
       "Preview(child=TetrahedronGeometry(detail=1, radius=10.0), shadowMap=WebGLShadowMap())"
      ]
     },
     "metadata": {},
     "output_type": "display_data"
    }
   ],
   "source": [
    "TetrahedronGeometry(radius=10, detail=1, _flat=True)"
   ]
  },
  {
   "cell_type": "code",
   "execution_count": 24,
   "metadata": {},
   "outputs": [],
   "source": [
    "# TODO: font loading\n",
    "# TextGeometry(...)"
   ]
  },
  {
   "cell_type": "code",
   "execution_count": 25,
   "metadata": {},
   "outputs": [
    {
     "data": {
      "application/vnd.jupyter.widget-view+json": {
       "model_id": "ffd8ae3ac1574dee8cd1258fcb0297a6",
       "version_major": 2,
       "version_minor": 0
      },
      "text/html": [
       "<p>Failed to display Jupyter Widget of type <code>Preview</code>.</p>\n",
       "<p>\n",
       "  If you're reading this message in the Jupyter Notebook or JupyterLab Notebook, it may mean\n",
       "  that the widgets JavaScript is still loading. If this message persists, it\n",
       "  likely means that the widgets JavaScript library is either not installed or\n",
       "  not enabled. See the <a href=\"https://ipywidgets.readthedocs.io/en/stable/user_install.html\">Jupyter\n",
       "  Widgets Documentation</a> for setup instructions.\n",
       "</p>\n",
       "<p>\n",
       "  If you're reading this message in another frontend (for example, a static\n",
       "  rendering on GitHub or <a href=\"https://nbviewer.jupyter.org/\">NBViewer</a>),\n",
       "  it may mean that your frontend doesn't currently support widgets.\n",
       "</p>\n"
      ],
      "text/plain": [
       "Preview(child=TorusGeometry(arc=4.71238898038469, radialSegments=20, radius=20.0, tube=5.0), shadowMap=WebGLShadowMap())"
      ]
     },
     "metadata": {},
     "output_type": "display_data"
    }
   ],
   "source": [
    "TorusGeometry(\n",
    "    radius=20,\n",
    "    tube=5,\n",
    "    radialSegments=20,\n",
    "    tubularSegments=6,\n",
    "    arc=1.5*pi)"
   ]
  },
  {
   "cell_type": "code",
   "execution_count": 26,
   "metadata": {},
   "outputs": [
    {
     "data": {
      "application/vnd.jupyter.widget-view+json": {
       "model_id": "d2369e8bfe504406b6ee4bfa3d413efc",
       "version_major": 2,
       "version_minor": 0
      },
      "text/html": [
       "<p>Failed to display Jupyter Widget of type <code>Preview</code>.</p>\n",
       "<p>\n",
       "  If you're reading this message in the Jupyter Notebook or JupyterLab Notebook, it may mean\n",
       "  that the widgets JavaScript is still loading. If this message persists, it\n",
       "  likely means that the widgets JavaScript library is either not installed or\n",
       "  not enabled. See the <a href=\"https://ipywidgets.readthedocs.io/en/stable/user_install.html\">Jupyter\n",
       "  Widgets Documentation</a> for setup instructions.\n",
       "</p>\n",
       "<p>\n",
       "  If you're reading this message in another frontend (for example, a static\n",
       "  rendering on GitHub or <a href=\"https://nbviewer.jupyter.org/\">NBViewer</a>),\n",
       "  it may mean that your frontend doesn't currently support widgets.\n",
       "</p>\n"
      ],
      "text/plain": [
       "Preview(child=TorusBufferGeometry(radius=100.0), shadowMap=WebGLShadowMap())"
      ]
     },
     "metadata": {},
     "output_type": "display_data"
    }
   ],
   "source": [
    "TorusBufferGeometry(radius=100)"
   ]
  },
  {
   "cell_type": "code",
   "execution_count": 27,
   "metadata": {},
   "outputs": [
    {
     "data": {
      "application/vnd.jupyter.widget-view+json": {
       "model_id": "8f750e1a73c34b1d90b1397d8bf2cd57",
       "version_major": 2,
       "version_minor": 0
      },
      "text/html": [
       "<p>Failed to display Jupyter Widget of type <code>Preview</code>.</p>\n",
       "<p>\n",
       "  If you're reading this message in the Jupyter Notebook or JupyterLab Notebook, it may mean\n",
       "  that the widgets JavaScript is still loading. If this message persists, it\n",
       "  likely means that the widgets JavaScript library is either not installed or\n",
       "  not enabled. See the <a href=\"https://ipywidgets.readthedocs.io/en/stable/user_install.html\">Jupyter\n",
       "  Widgets Documentation</a> for setup instructions.\n",
       "</p>\n",
       "<p>\n",
       "  If you're reading this message in another frontend (for example, a static\n",
       "  rendering on GitHub or <a href=\"https://nbviewer.jupyter.org/\">NBViewer</a>),\n",
       "  it may mean that your frontend doesn't currently support widgets.\n",
       "</p>\n"
      ],
      "text/plain": [
       "Preview(child=TorusKnotGeometry(radius=20.0, tube=5.0), shadowMap=WebGLShadowMap())"
      ]
     },
     "metadata": {},
     "output_type": "display_data"
    }
   ],
   "source": [
    "TorusKnotGeometry(\n",
    "    radius=20,\n",
    "    tube=5,\n",
    "    tubularSegments=64,\n",
    "    radialSegments=8,\n",
    "    p=2,\n",
    "    q=3)"
   ]
  },
  {
   "cell_type": "code",
   "execution_count": 28,
   "metadata": {},
   "outputs": [
    {
     "data": {
      "application/vnd.jupyter.widget-view+json": {
       "model_id": "69ae750a623a4e169fa31a8b73794f2c",
       "version_major": 2,
       "version_minor": 0
      },
      "text/html": [
       "<p>Failed to display Jupyter Widget of type <code>Preview</code>.</p>\n",
       "<p>\n",
       "  If you're reading this message in the Jupyter Notebook or JupyterLab Notebook, it may mean\n",
       "  that the widgets JavaScript is still loading. If this message persists, it\n",
       "  likely means that the widgets JavaScript library is either not installed or\n",
       "  not enabled. See the <a href=\"https://ipywidgets.readthedocs.io/en/stable/user_install.html\">Jupyter\n",
       "  Widgets Documentation</a> for setup instructions.\n",
       "</p>\n",
       "<p>\n",
       "  If you're reading this message in another frontend (for example, a static\n",
       "  rendering on GitHub or <a href=\"https://nbviewer.jupyter.org/\">NBViewer</a>),\n",
       "  it may mean that your frontend doesn't currently support widgets.\n",
       "</p>\n"
      ],
      "text/plain": [
       "Preview(child=TorusKnotBufferGeometry(radius=20.0, tube=5.0), shadowMap=WebGLShadowMap())"
      ]
     },
     "metadata": {},
     "output_type": "display_data"
    }
   ],
   "source": [
    "TorusKnotBufferGeometry(\n",
    "    radius=20,\n",
    "    tube=5,\n",
    "    tubularSegments=64,\n",
    "    radialSegments=8,\n",
    "    p=2,\n",
    "    q=3)"
   ]
  },
  {
   "cell_type": "code",
   "execution_count": null,
   "metadata": {},
   "outputs": [],
   "source": [
    "# TODO: handling THREE.Curve\n",
    "TubeGeometry(\n",
    "    path=None,\n",
    "    segments=64,\n",
    "    radius=1,\n",
    "    radiusSegments=8,\n",
    "    close=False)"
   ]
  },
  {
   "cell_type": "code",
   "execution_count": 29,
   "metadata": {},
   "outputs": [
    {
     "data": {
      "application/vnd.jupyter.widget-view+json": {
       "model_id": "1fb23807e5e243468d415bdd46aa452f",
       "version_major": 2,
       "version_minor": 0
      },
      "text/html": [
       "<p>Failed to display Jupyter Widget of type <code>Preview</code>.</p>\n",
       "<p>\n",
       "  If you're reading this message in the Jupyter Notebook or JupyterLab Notebook, it may mean\n",
       "  that the widgets JavaScript is still loading. If this message persists, it\n",
       "  likely means that the widgets JavaScript library is either not installed or\n",
       "  not enabled. See the <a href=\"https://ipywidgets.readthedocs.io/en/stable/user_install.html\">Jupyter\n",
       "  Widgets Documentation</a> for setup instructions.\n",
       "</p>\n",
       "<p>\n",
       "  If you're reading this message in another frontend (for example, a static\n",
       "  rendering on GitHub or <a href=\"https://nbviewer.jupyter.org/\">NBViewer</a>),\n",
       "  it may mean that your frontend doesn't currently support widgets.\n",
       "</p>\n"
      ],
      "text/plain": [
       "Preview(child=WireframeGeometry(geometry=TorusBufferGeometry(radialSegments=6, radius=20.0, tube=5.0, tubularSegments=20)), shadowMap=WebGLShadowMap())"
      ]
     },
     "metadata": {},
     "output_type": "display_data"
    }
   ],
   "source": [
    "WireframeGeometry(geometry=TorusBufferGeometry(\n",
    "    radius=20,\n",
    "    tube=5,\n",
    "    radialSegments=6,\n",
    "    tubularSegments=20,\n",
    "    arc=2.0*pi\n",
    "))"
   ]
  },
  {
   "cell_type": "code",
   "execution_count": null,
   "metadata": {},
   "outputs": [],
   "source": []
  }
 ],
 "metadata": {
  "anaconda-cloud": {},
  "kernelspec": {
   "display_name": "Python 3",
   "language": "python",
   "name": "python3"
  },
  "language_info": {
   "codemirror_mode": {
    "name": "ipython",
    "version": 3
   },
   "file_extension": ".py",
   "mimetype": "text/x-python",
   "name": "python",
   "nbconvert_exporter": "python",
   "pygments_lexer": "ipython3",
   "version": "3.6.4"
  },
  "widgets": {
   "application/vnd.jupyter.widget-state+json": {
    "state": {
     "0088744555b04206b34bc8ae2a9562f4": {
      "model_module": "jupyter-threejs",
      "model_module_version": "1.0.0-beta.4",
      "model_name": "WebGLShadowMapModel",
      "state": {
       "_view_module": null,
       "_view_module_version": ""
      }
     },
     "01e3f1a9fd4a4906ae372cda59e743b6": {
      "model_module": "jupyter-threejs",
      "model_module_version": "1.0.0-beta.4",
      "model_name": "PreviewModel",
      "state": {
       "child": "IPY_MODEL_39101620a7e949c698ff6a95c37d0f91",
       "layout": "IPY_MODEL_538fe162a5254c7484652d494ac553c2",
       "shadowMap": "IPY_MODEL_9979d4a702a24d8998bc33efbf34366e"
      }
     },
     "057c7bf7e1df407ab436badf84bfadac": {
      "model_module": "jupyter-threejs",
      "model_module_version": "1.0.0-beta.4",
      "model_name": "RingBufferGeometryModel",
      "state": {
       "_view_module": null,
       "_view_module_version": "",
       "innerRadius": 10,
       "outerRadius": 25,
       "phiSegments": 12,
       "type": "RingBufferGeometry"
      }
     },
     "0584e177180e45388124c8a80da1a357": {
      "model_module": "jupyter-threejs",
      "model_module_version": "1.0.0-beta.4",
      "model_name": "CircleBufferGeometryModel",
      "state": {
       "_view_module": null,
       "_view_module_version": "",
       "radius": 10,
       "segments": 10,
       "thetaLength": 5,
       "thetaStart": 0.25,
       "type": "CircleBufferGeometry"
      }
     },
     "05d80f3fa05f43b98cef35841b01f639": {
      "model_module": "@jupyter-widgets/base",
      "model_module_version": "1.0.0",
      "model_name": "LayoutModel",
      "state": {}
     },
     "0ce846c416a244cf9426df5dcc99164a": {
      "model_module": "jupyter-threejs",
      "model_module_version": "1.0.0-beta.4",
      "model_name": "WebGLShadowMapModel",
      "state": {
       "_view_module": null,
       "_view_module_version": ""
      }
     },
     "0e0abf794f07487ba5a509c6e0cae629": {
      "model_module": "jupyter-threejs",
      "model_module_version": "1.0.0-beta.4",
      "model_name": "PreviewModel",
      "state": {
       "child": "IPY_MODEL_e284be7a9ccc499d960d6de5e3a03d10",
       "layout": "IPY_MODEL_b0f5f209d5bf4c27b3e6a05894722abf",
       "shadowMap": "IPY_MODEL_2f9ebd20860d4461b138456419b9a6d7"
      }
     },
     "15bd6b0921b5447ab98ded3fa45b805c": {
      "model_module": "jupyter-threejs",
      "model_module_version": "1.0.0-beta.4",
      "model_name": "CircleGeometryModel",
      "state": {
       "_view_module": null,
       "_view_module_version": "",
       "radius": 10,
       "segments": 10,
       "thetaLength": 5,
       "thetaStart": 0.25,
       "type": "CircleGeometry"
      }
     },
     "1977fc2fd0894623b15d4e363a896252": {
      "model_module": "jupyter-threejs",
      "model_module_version": "1.0.0-beta.4",
      "model_name": "PlaneGeometryModel",
      "state": {
       "_view_module": null,
       "_view_module_version": "",
       "height": 15,
       "heightSegments": 10,
       "type": "PlaneGeometry",
       "width": 10,
       "widthSegments": 5
      }
     },
     "1e8a096f7fed401fbc0a666f2c5127e4": {
      "model_module": "jupyter-threejs",
      "model_module_version": "1.0.0-beta.4",
      "model_name": "SphereBufferGeometryModel",
      "state": {
       "_view_module": null,
       "_view_module_version": "",
       "phiLength": 4.71238898038469,
       "radius": 20,
       "thetaLength": 2.0943951023931953,
       "type": "SphereBufferGeometry"
      }
     },
     "1fb23807e5e243468d415bdd46aa452f": {
      "model_module": "jupyter-threejs",
      "model_module_version": "1.0.0-beta.4",
      "model_name": "PreviewModel",
      "state": {
       "child": "IPY_MODEL_b17c6c5801174008bfe6cd1f6fc40c2f",
       "layout": "IPY_MODEL_33b906261c2446bd9e281a88bad241e6",
       "shadowMap": "IPY_MODEL_27199727d4954df58415a2e1c48b7709"
      }
     },
     "27199727d4954df58415a2e1c48b7709": {
      "model_module": "jupyter-threejs",
      "model_module_version": "1.0.0-beta.4",
      "model_name": "WebGLShadowMapModel",
      "state": {
       "_view_module": null,
       "_view_module_version": ""
      }
     },
     "2729e4c6b04b4fa0a061b9dbbb7c2298": {
      "model_module": "jupyter-threejs",
      "model_module_version": "1.0.0-beta.4",
      "model_name": "SphereGeometryModel",
      "state": {
       "_view_module": null,
       "_view_module_version": "",
       "phiLength": 4.71238898038469,
       "radius": 20,
       "thetaLength": 2.0943951023931953,
       "type": "SphereGeometry"
      }
     },
     "28d78ceb51004f669a745f933615b55a": {
      "model_module": "@jupyter-widgets/base",
      "model_module_version": "1.0.0",
      "model_name": "LayoutModel",
      "state": {}
     },
     "2d514ec4a04f4e67bd49e18635cb9312": {
      "model_module": "jupyter-threejs",
      "model_module_version": "1.0.0-beta.4",
      "model_name": "BoxGeometryModel",
      "state": {
       "_view_module": null,
       "_view_module_version": "",
       "depth": 15,
       "depthSegments": 15,
       "height": 10,
       "heightSegments": 10,
       "type": "BoxGeometry",
       "width": 5,
       "widthSegments": 5
      }
     },
     "2e4152e105dc49ff8bbba698cc9be547": {
      "model_module": "@jupyter-widgets/base",
      "model_module_version": "1.0.0",
      "model_name": "LayoutModel",
      "state": {}
     },
     "2f9ebd20860d4461b138456419b9a6d7": {
      "model_module": "jupyter-threejs",
      "model_module_version": "1.0.0-beta.4",
      "model_name": "WebGLShadowMapModel",
      "state": {
       "_view_module": null,
       "_view_module_version": ""
      }
     },
     "2fe9219c6d4c418a9ca0b63ab9a26322": {
      "model_module": "jupyter-threejs",
      "model_module_version": "1.0.0-beta.4",
      "model_name": "WebGLShadowMapModel",
      "state": {
       "_view_module": null,
       "_view_module_version": ""
      }
     },
     "310c4f99cf5c4176a8c364e6f75d6872": {
      "model_module": "jupyter-threejs",
      "model_module_version": "1.0.0-beta.4",
      "model_name": "TorusGeometryModel",
      "state": {
       "_view_module": null,
       "_view_module_version": "",
       "arc": 4.71238898038469,
       "radialSegments": 20,
       "radius": 20,
       "tube": 5,
       "type": "TorusGeometry"
      }
     },
     "332e833369d74e8d9d62a51dcf08d9fb": {
      "model_module": "@jupyter-widgets/base",
      "model_module_version": "1.0.0",
      "model_name": "LayoutModel",
      "state": {}
     },
     "33b906261c2446bd9e281a88bad241e6": {
      "model_module": "@jupyter-widgets/base",
      "model_module_version": "1.0.0",
      "model_name": "LayoutModel",
      "state": {}
     },
     "37c530393ec14198bcc09c440d81d0b4": {
      "model_module": "jupyter-threejs",
      "model_module_version": "1.0.0-beta.4",
      "model_name": "PreviewModel",
      "state": {
       "child": "IPY_MODEL_3b04a21a7d5c4310a90265bebc7a5927",
       "layout": "IPY_MODEL_6225c61533b943f09b8f6e74f15253b1",
       "shadowMap": "IPY_MODEL_d3b3a38d55e14d4699cecb5b8b7606e2"
      }
     },
     "39101620a7e949c698ff6a95c37d0f91": {
      "model_module": "jupyter-threejs",
      "model_module_version": "1.0.0-beta.4",
      "model_name": "RingGeometryModel",
      "state": {
       "_view_module": null,
       "_view_module_version": "",
       "innerRadius": 10,
       "outerRadius": 25,
       "phiSegments": 12,
       "type": "RingGeometry"
      }
     },
     "3b04a21a7d5c4310a90265bebc7a5927": {
      "model_module": "jupyter-threejs",
      "model_module_version": "1.0.0-beta.4",
      "model_name": "DodecahedronGeometryModel",
      "state": {
       "_view_module": null,
       "_view_module_version": "",
       "radius": 10,
       "type": "DodecahedronGeometry"
      }
     },
     "3b50a1910a28409380fb34fc307ed90b": {
      "model_module": "jupyter-threejs",
      "model_module_version": "1.0.0-beta.4",
      "model_name": "WebGLShadowMapModel",
      "state": {
       "_view_module": null,
       "_view_module_version": ""
      }
     },
     "41c43622c46a49eea050f339a290e1be": {
      "model_module": "jupyter-threejs",
      "model_module_version": "1.0.0-beta.4",
      "model_name": "WebGLShadowMapModel",
      "state": {
       "_view_module": null,
       "_view_module_version": ""
      }
     },
     "4281016615d041fe99286dd3f6df574c": {
      "model_module": "jupyter-threejs",
      "model_module_version": "1.0.0-beta.4",
      "model_name": "TetrahedronGeometryModel",
      "state": {
       "_view_module": null,
       "_view_module_version": "",
       "detail": 1,
       "radius": 10,
       "type": "TetrahedronGeometry"
      }
     },
     "42bc7d813576405fbc7e9bc78c64025e": {
      "model_module": "@jupyter-widgets/base",
      "model_module_version": "1.0.0",
      "model_name": "LayoutModel",
      "state": {}
     },
     "461fe72660a343808d889796fa1d99c7": {
      "model_module": "jupyter-threejs",
      "model_module_version": "1.0.0-beta.4",
      "model_name": "WebGLShadowMapModel",
      "state": {
       "_view_module": null,
       "_view_module_version": ""
      }
     },
     "47618320a819479aa1acfd7104bcbcd0": {
      "model_module": "@jupyter-widgets/base",
      "model_module_version": "1.0.0",
      "model_name": "LayoutModel",
      "state": {}
     },
     "519cc00a3aa44386be99c163e229924c": {
      "model_module": "jupyter-threejs",
      "model_module_version": "1.0.0-beta.4",
      "model_name": "WebGLShadowMapModel",
      "state": {
       "_view_module": null,
       "_view_module_version": ""
      }
     },
     "538fe162a5254c7484652d494ac553c2": {
      "model_module": "@jupyter-widgets/base",
      "model_module_version": "1.0.0",
      "model_name": "LayoutModel",
      "state": {}
     },
     "552b44c41676472f9a3f3b09502bca73": {
      "model_module": "jupyter-threejs",
      "model_module_version": "1.0.0-beta.4",
      "model_name": "WebGLShadowMapModel",
      "state": {
       "_view_module": null,
       "_view_module_version": ""
      }
     },
     "565a42ada56a456b80d4a9411a9c7808": {
      "model_module": "jupyter-threejs",
      "model_module_version": "1.0.0-beta.4",
      "model_name": "PreviewModel",
      "state": {
       "child": "IPY_MODEL_1977fc2fd0894623b15d4e363a896252",
       "layout": "IPY_MODEL_05d80f3fa05f43b98cef35841b01f639",
       "shadowMap": "IPY_MODEL_6d25553dfc6e42dcb3e302c11bedc272"
      }
     },
     "5acb53162aaa4d4ebd07aa9ce5934e79": {
      "model_module": "@jupyter-widgets/base",
      "model_module_version": "1.0.0",
      "model_name": "LayoutModel",
      "state": {}
     },
     "5b3f28cdc1fb4621b70c55b89e6a71f5": {
      "model_module": "@jupyter-widgets/base",
      "model_module_version": "1.0.0",
      "model_name": "LayoutModel",
      "state": {}
     },
     "5e77925146584791b54d8a375913c6a7": {
      "model_module": "jupyter-threejs",
      "model_module_version": "1.0.0-beta.4",
      "model_name": "PreviewModel",
      "state": {
       "child": "IPY_MODEL_0584e177180e45388124c8a80da1a357",
       "layout": "IPY_MODEL_b88578e2af764f1da754becea40ebb9d",
       "shadowMap": "IPY_MODEL_0ce846c416a244cf9426df5dcc99164a"
      }
     },
     "61ff0e0c0e88403d96711ad8c7fc62c7": {
      "model_module": "@jupyter-widgets/base",
      "model_module_version": "1.0.0",
      "model_name": "LayoutModel",
      "state": {}
     },
     "6225c61533b943f09b8f6e74f15253b1": {
      "model_module": "@jupyter-widgets/base",
      "model_module_version": "1.0.0",
      "model_name": "LayoutModel",
      "state": {}
     },
     "6287b14bb11f471aa41abd066a03c50f": {
      "model_module": "@jupyter-widgets/base",
      "model_module_version": "1.0.0",
      "model_name": "LayoutModel",
      "state": {}
     },
     "669a95703ec740588c925df055a99357": {
      "model_module": "jupyter-threejs",
      "model_module_version": "1.0.0-beta.4",
      "model_name": "TorusBufferGeometryModel",
      "state": {
       "_view_module": null,
       "_view_module_version": "",
       "radius": 100,
       "type": "TorusBufferGeometry"
      }
     },
     "6820dfcf32b347cbb550e6817108480f": {
      "model_module": "jupyter-threejs",
      "model_module_version": "1.0.0-beta.4",
      "model_name": "PreviewModel",
      "state": {
       "child": "IPY_MODEL_fbe05db9a5f846fa853f20788d6bbfd0",
       "layout": "IPY_MODEL_28d78ceb51004f669a745f933615b55a",
       "shadowMap": "IPY_MODEL_ee5cfeea35b34c41a1d0edf42988d413"
      }
     },
     "69ae750a623a4e169fa31a8b73794f2c": {
      "model_module": "jupyter-threejs",
      "model_module_version": "1.0.0-beta.4",
      "model_name": "PreviewModel",
      "state": {
       "child": "IPY_MODEL_bb5b68fdf640446f8a875094e9f8f3a7",
       "layout": "IPY_MODEL_61ff0e0c0e88403d96711ad8c7fc62c7",
       "shadowMap": "IPY_MODEL_c4310bd64f32492c952f56169d78f473"
      }
     },
     "69b887e0a5b7449e91e947f4cc6da3d1": {
      "model_module": "jupyter-threejs",
      "model_module_version": "1.0.0-beta.4",
      "model_name": "WebGLShadowMapModel",
      "state": {
       "_view_module": null,
       "_view_module_version": ""
      }
     },
     "6d25553dfc6e42dcb3e302c11bedc272": {
      "model_module": "jupyter-threejs",
      "model_module_version": "1.0.0-beta.4",
      "model_name": "WebGLShadowMapModel",
      "state": {
       "_view_module": null,
       "_view_module_version": ""
      }
     },
     "6d64193f1fb24bcaa3657b726a8f6134": {
      "model_module": "jupyter-threejs",
      "model_module_version": "1.0.0-beta.4",
      "model_name": "PreviewModel",
      "state": {
       "child": "IPY_MODEL_4281016615d041fe99286dd3f6df574c",
       "layout": "IPY_MODEL_dbf6928aad264808bbdfd66d410e3205",
       "shadowMap": "IPY_MODEL_a0af3a95c05f46e0a8c5f5dde8942956"
      }
     },
     "77363b70920b4e0a82380a4b22794549": {
      "model_module": "jupyter-threejs",
      "model_module_version": "1.0.0-beta.4",
      "model_name": "TorusBufferGeometryModel",
      "state": {
       "_view_module": null,
       "_view_module_version": "",
       "radialSegments": 6,
       "radius": 20,
       "tube": 5,
       "tubularSegments": 20,
       "type": "TorusBufferGeometry"
      }
     },
     "77a3cf9121f1447494dd154bd4864fd6": {
      "model_module": "jupyter-threejs",
      "model_module_version": "1.0.0-beta.4",
      "model_name": "PreviewModel",
      "state": {
       "child": "IPY_MODEL_1e8a096f7fed401fbc0a666f2c5127e4",
       "layout": "IPY_MODEL_fc43c8bc5ede4ab0934a7d73b5e7500f",
       "shadowMap": "IPY_MODEL_7901dbeec6d4478cb98a1e7e7e7c56d8"
      }
     },
     "7901dbeec6d4478cb98a1e7e7e7c56d8": {
      "model_module": "jupyter-threejs",
      "model_module_version": "1.0.0-beta.4",
      "model_name": "WebGLShadowMapModel",
      "state": {
       "_view_module": null,
       "_view_module_version": ""
      }
     },
     "7e75685b60a24f0688812ba6c0830aee": {
      "model_module": "jupyter-threejs",
      "model_module_version": "1.0.0-beta.4",
      "model_name": "PreviewModel",
      "state": {
       "child": "IPY_MODEL_f64e5bea635d4025aeb47fc8f7c46f74",
       "layout": "IPY_MODEL_6287b14bb11f471aa41abd066a03c50f",
       "shadowMap": "IPY_MODEL_877525f0fa73414b9348ff0bb04873d1"
      }
     },
     "7f0a7670619d430f950ad0ba387bbfa6": {
      "model_module": "jupyter-threejs",
      "model_module_version": "1.0.0-beta.4",
      "model_name": "WebGLShadowMapModel",
      "state": {
       "_view_module": null,
       "_view_module_version": ""
      }
     },
     "86f97aebb6454a2f9a245cc2bc6e11d3": {
      "model_module": "jupyter-threejs",
      "model_module_version": "1.0.0-beta.4",
      "model_name": "PreviewModel",
      "state": {
       "child": "IPY_MODEL_057c7bf7e1df407ab436badf84bfadac",
       "layout": "IPY_MODEL_47618320a819479aa1acfd7104bcbcd0",
       "shadowMap": "IPY_MODEL_519cc00a3aa44386be99c163e229924c"
      }
     },
     "877525f0fa73414b9348ff0bb04873d1": {
      "model_module": "jupyter-threejs",
      "model_module_version": "1.0.0-beta.4",
      "model_name": "WebGLShadowMapModel",
      "state": {
       "_view_module": null,
       "_view_module_version": ""
      }
     },
     "8d8761e816894c9881a2e62a5c1ff653": {
      "model_module": "@jupyter-widgets/base",
      "model_module_version": "1.0.0",
      "model_name": "LayoutModel",
      "state": {}
     },
     "8f5863d0c66f4c39b210582f04a81a49": {
      "model_module": "@jupyter-widgets/base",
      "model_module_version": "1.0.0",
      "model_name": "LayoutModel",
      "state": {}
     },
     "8f750e1a73c34b1d90b1397d8bf2cd57": {
      "model_module": "jupyter-threejs",
      "model_module_version": "1.0.0-beta.4",
      "model_name": "PreviewModel",
      "state": {
       "child": "IPY_MODEL_d10e9840411d408386485de7d3b66762",
       "layout": "IPY_MODEL_c9dc3f4fab9f4fb8aed2acdfa6089131",
       "shadowMap": "IPY_MODEL_0088744555b04206b34bc8ae2a9562f4"
      }
     },
     "9225e0494cff4fd3916810f0f5732c6c": {
      "model_module": "jupyter-threejs",
      "model_module_version": "1.0.0-beta.4",
      "model_name": "CylinderBufferGeometryModel",
      "state": {
       "_view_module": null,
       "_view_module_version": "",
       "height": 15,
       "heightSegments": 10,
       "radiusBottom": 10,
       "radiusTop": 5,
       "type": "CylinderBufferGeometry"
      }
     },
     "95b6d16a81dc48e5bc6667150de2f64e": {
      "model_module": "jupyter-threejs",
      "model_module_version": "1.0.0-beta.4",
      "model_name": "BoxBufferGeometryModel",
      "state": {
       "_view_module": null,
       "_view_module_version": "",
       "depth": 15,
       "depthSegments": 15,
       "height": 10,
       "heightSegments": 10,
       "type": "BoxBufferGeometry",
       "width": 5,
       "widthSegments": 5
      }
     },
     "9979d4a702a24d8998bc33efbf34366e": {
      "model_module": "jupyter-threejs",
      "model_module_version": "1.0.0-beta.4",
      "model_name": "WebGLShadowMapModel",
      "state": {
       "_view_module": null,
       "_view_module_version": ""
      }
     },
     "9a18418481bf4a39a3d086912e5cda09": {
      "model_module": "jupyter-threejs",
      "model_module_version": "1.0.0-beta.4",
      "model_name": "OctahedronGeometryModel",
      "state": {
       "_view_module": null,
       "_view_module_version": "",
       "radius": 10,
       "type": "OctahedronGeometry"
      }
     },
     "a0af3a95c05f46e0a8c5f5dde8942956": {
      "model_module": "jupyter-threejs",
      "model_module_version": "1.0.0-beta.4",
      "model_name": "WebGLShadowMapModel",
      "state": {
       "_view_module": null,
       "_view_module_version": ""
      }
     },
     "aabb3f3575dd43b4877c02b6e5707a3d": {
      "model_module": "jupyter-threejs",
      "model_module_version": "1.0.0-beta.4",
      "model_name": "PreviewModel",
      "state": {
       "child": "IPY_MODEL_15bd6b0921b5447ab98ded3fa45b805c",
       "layout": "IPY_MODEL_8d8761e816894c9881a2e62a5c1ff653",
       "shadowMap": "IPY_MODEL_da52f9134acc4b2b9ba22f3d95f3ce6d"
      }
     },
     "b0f5f209d5bf4c27b3e6a05894722abf": {
      "model_module": "@jupyter-widgets/base",
      "model_module_version": "1.0.0",
      "model_name": "LayoutModel",
      "state": {}
     },
     "b17c6c5801174008bfe6cd1f6fc40c2f": {
      "model_module": "jupyter-threejs",
      "model_module_version": "1.0.0-beta.4",
      "model_name": "WireframeGeometryModel",
      "state": {
       "_view_module": null,
       "_view_module_version": "",
       "geometry": "IPY_MODEL_77363b70920b4e0a82380a4b22794549",
       "type": "WireframeGeometry"
      }
     },
     "b88578e2af764f1da754becea40ebb9d": {
      "model_module": "@jupyter-widgets/base",
      "model_module_version": "1.0.0",
      "model_name": "LayoutModel",
      "state": {}
     },
     "bb5b68fdf640446f8a875094e9f8f3a7": {
      "model_module": "jupyter-threejs",
      "model_module_version": "1.0.0-beta.4",
      "model_name": "TorusKnotBufferGeometryModel",
      "state": {
       "_view_module": null,
       "_view_module_version": "",
       "radius": 20,
       "tube": 5,
       "type": "TorusKnotBufferGeometry"
      }
     },
     "be34347f79d541f5aecc724c1709dbe1": {
      "model_module": "jupyter-threejs",
      "model_module_version": "1.0.0-beta.4",
      "model_name": "PreviewModel",
      "state": {
       "child": "IPY_MODEL_9a18418481bf4a39a3d086912e5cda09",
       "layout": "IPY_MODEL_42bc7d813576405fbc7e9bc78c64025e",
       "shadowMap": "IPY_MODEL_2fe9219c6d4c418a9ca0b63ab9a26322"
      }
     },
     "c0a6d80e32e04b8e9ecb513a97c29c44": {
      "model_module": "jupyter-threejs",
      "model_module_version": "1.0.0-beta.4",
      "model_name": "PreviewModel",
      "state": {
       "child": "IPY_MODEL_2d514ec4a04f4e67bd49e18635cb9312",
       "layout": "IPY_MODEL_c1eed44320fc40adb010724da8320a84",
       "shadowMap": "IPY_MODEL_ebc4356a4057464394b8adebedf909e1"
      }
     },
     "c1eed44320fc40adb010724da8320a84": {
      "model_module": "@jupyter-widgets/base",
      "model_module_version": "1.0.0",
      "model_name": "LayoutModel",
      "state": {}
     },
     "c4310bd64f32492c952f56169d78f473": {
      "model_module": "jupyter-threejs",
      "model_module_version": "1.0.0-beta.4",
      "model_name": "WebGLShadowMapModel",
      "state": {
       "_view_module": null,
       "_view_module_version": ""
      }
     },
     "c48f7db415cf4160a6e54544e4a0ff81": {
      "model_module": "@jupyter-widgets/base",
      "model_module_version": "1.0.0",
      "model_name": "LayoutModel",
      "state": {}
     },
     "c8c9be3dcd5b46f9a7c6cbb48e1a6537": {
      "model_module": "jupyter-threejs",
      "model_module_version": "1.0.0-beta.4",
      "model_name": "PreviewModel",
      "state": {
       "child": "IPY_MODEL_2729e4c6b04b4fa0a061b9dbbb7c2298",
       "layout": "IPY_MODEL_2e4152e105dc49ff8bbba698cc9be547",
       "shadowMap": "IPY_MODEL_7f0a7670619d430f950ad0ba387bbfa6"
      }
     },
     "c9dc3f4fab9f4fb8aed2acdfa6089131": {
      "model_module": "@jupyter-widgets/base",
      "model_module_version": "1.0.0",
      "model_name": "LayoutModel",
      "state": {}
     },
     "d10e9840411d408386485de7d3b66762": {
      "model_module": "jupyter-threejs",
      "model_module_version": "1.0.0-beta.4",
      "model_name": "TorusKnotGeometryModel",
      "state": {
       "_view_module": null,
       "_view_module_version": "",
       "radius": 20,
       "tube": 5,
       "type": "TorusKnotGeometry"
      }
     },
     "d2369e8bfe504406b6ee4bfa3d413efc": {
      "model_module": "jupyter-threejs",
      "model_module_version": "1.0.0-beta.4",
      "model_name": "PreviewModel",
      "state": {
       "child": "IPY_MODEL_669a95703ec740588c925df055a99357",
       "layout": "IPY_MODEL_5b3f28cdc1fb4621b70c55b89e6a71f5",
       "shadowMap": "IPY_MODEL_db2137ab75fc49c4aac157a667dc1c99"
      }
     },
     "d28fa3cf072f4ccd8b8c8bd2646dabb8": {
      "model_module": "jupyter-threejs",
      "model_module_version": "1.0.0-beta.4",
      "model_name": "PreviewModel",
      "state": {
       "child": "IPY_MODEL_9225e0494cff4fd3916810f0f5732c6c",
       "layout": "IPY_MODEL_332e833369d74e8d9d62a51dcf08d9fb",
       "shadowMap": "IPY_MODEL_461fe72660a343808d889796fa1d99c7"
      }
     },
     "d3b3a38d55e14d4699cecb5b8b7606e2": {
      "model_module": "jupyter-threejs",
      "model_module_version": "1.0.0-beta.4",
      "model_name": "WebGLShadowMapModel",
      "state": {
       "_view_module": null,
       "_view_module_version": ""
      }
     },
     "d7e2ec33ecd04951bdeba960d22d6f12": {
      "model_module": "jupyter-threejs",
      "model_module_version": "1.0.0-beta.4",
      "model_name": "ParametricGeometryModel",
      "state": {
       "_view_module": null,
       "_view_module_version": "",
       "func": "function(u,v) { \n        var x = 5 * (0.5 - u);\n        var y = 5 * (0.5 - v);\n        return new THREE.Vector3(10 * x, 10 * y, x*x - y*y); \n    }",
       "slices": 5,
       "stacks": 10,
       "type": "ParametricGeometry"
      }
     },
     "da52f9134acc4b2b9ba22f3d95f3ce6d": {
      "model_module": "jupyter-threejs",
      "model_module_version": "1.0.0-beta.4",
      "model_name": "WebGLShadowMapModel",
      "state": {
       "_view_module": null,
       "_view_module_version": ""
      }
     },
     "db2137ab75fc49c4aac157a667dc1c99": {
      "model_module": "jupyter-threejs",
      "model_module_version": "1.0.0-beta.4",
      "model_name": "WebGLShadowMapModel",
      "state": {
       "_view_module": null,
       "_view_module_version": ""
      }
     },
     "dbf6928aad264808bbdfd66d410e3205": {
      "model_module": "@jupyter-widgets/base",
      "model_module_version": "1.0.0",
      "model_name": "LayoutModel",
      "state": {}
     },
     "dd84ce98756e4f30988caebe9c36c439": {
      "model_module": "jupyter-threejs",
      "model_module_version": "1.0.0-beta.4",
      "model_name": "PreviewModel",
      "state": {
       "child": "IPY_MODEL_95b6d16a81dc48e5bc6667150de2f64e",
       "layout": "IPY_MODEL_c48f7db415cf4160a6e54544e4a0ff81",
       "shadowMap": "IPY_MODEL_69b887e0a5b7449e91e947f4cc6da3d1"
      }
     },
     "e284be7a9ccc499d960d6de5e3a03d10": {
      "model_module": "jupyter-threejs",
      "model_module_version": "1.0.0-beta.4",
      "model_name": "LatheBufferGeometryModel",
      "state": {
       "_view_module": null,
       "_view_module_version": "",
       "points": [
        [
         0,
         -10,
         0
        ],
        [
         10,
         -5,
         0
        ],
        [
         5,
         5,
         0
        ],
        [
         0,
         10,
         0
        ]
       ],
       "segments": 16,
       "type": "LatheBufferGeometry"
      }
     },
     "e6b4f575041e427cb0206d0d5da15cf3": {
      "model_module": "jupyter-threejs",
      "model_module_version": "1.0.0-beta.4",
      "model_name": "PreviewModel",
      "state": {
       "child": "IPY_MODEL_eefbc26716e64559908537886dd082ce",
       "layout": "IPY_MODEL_5acb53162aaa4d4ebd07aa9ce5934e79",
       "shadowMap": "IPY_MODEL_3b50a1910a28409380fb34fc307ed90b"
      }
     },
     "ebc4356a4057464394b8adebedf909e1": {
      "model_module": "jupyter-threejs",
      "model_module_version": "1.0.0-beta.4",
      "model_name": "WebGLShadowMapModel",
      "state": {
       "_view_module": null,
       "_view_module_version": ""
      }
     },
     "ee5cfeea35b34c41a1d0edf42988d413": {
      "model_module": "jupyter-threejs",
      "model_module_version": "1.0.0-beta.4",
      "model_name": "WebGLShadowMapModel",
      "state": {
       "_view_module": null,
       "_view_module_version": ""
      }
     },
     "eefbc26716e64559908537886dd082ce": {
      "model_module": "jupyter-threejs",
      "model_module_version": "1.0.0-beta.4",
      "model_name": "PlaneBufferGeometryModel",
      "state": {
       "_view_module": null,
       "_view_module_version": "",
       "height": 15,
       "heightSegments": 10,
       "type": "PlaneBufferGeometry",
       "width": 10,
       "widthSegments": 5
      }
     },
     "f2f141c504f1469bb5b2c64ed9c65c36": {
      "model_module": "@jupyter-widgets/base",
      "model_module_version": "1.0.0",
      "model_name": "LayoutModel",
      "state": {}
     },
     "f64e5bea635d4025aeb47fc8f7c46f74": {
      "model_module": "jupyter-threejs",
      "model_module_version": "1.0.0-beta.4",
      "model_name": "IcosahedronGeometryModel",
      "state": {
       "_view_module": null,
       "_view_module_version": "",
       "radius": 10,
       "type": "IcosahedronGeometry"
      }
     },
     "fbe05db9a5f846fa853f20788d6bbfd0": {
      "model_module": "jupyter-threejs",
      "model_module_version": "1.0.0-beta.4",
      "model_name": "CylinderGeometryModel",
      "state": {
       "_view_module": null,
       "_view_module_version": "",
       "height": 15,
       "heightSegments": 10,
       "radiusBottom": 10,
       "radiusTop": 5,
       "type": "CylinderGeometry"
      }
     },
     "fc43c8bc5ede4ab0934a7d73b5e7500f": {
      "model_module": "@jupyter-widgets/base",
      "model_module_version": "1.0.0",
      "model_name": "LayoutModel",
      "state": {}
     },
     "ffd8ae3ac1574dee8cd1258fcb0297a6": {
      "model_module": "jupyter-threejs",
      "model_module_version": "1.0.0-beta.4",
      "model_name": "PreviewModel",
      "state": {
       "child": "IPY_MODEL_310c4f99cf5c4176a8c364e6f75d6872",
       "layout": "IPY_MODEL_8f5863d0c66f4c39b210582f04a81a49",
       "shadowMap": "IPY_MODEL_552b44c41676472f9a3f3b09502bca73"
      }
     },
     "fff3cac17f074f139ffa650ea971089c": {
      "model_module": "jupyter-threejs",
      "model_module_version": "1.0.0-beta.4",
      "model_name": "PreviewModel",
      "state": {
       "child": "IPY_MODEL_d7e2ec33ecd04951bdeba960d22d6f12",
       "layout": "IPY_MODEL_f2f141c504f1469bb5b2c64ed9c65c36",
       "shadowMap": "IPY_MODEL_41c43622c46a49eea050f339a290e1be"
      }
     }
    },
    "version_major": 2,
    "version_minor": 0
   }
  }
 },
 "nbformat": 4,
 "nbformat_minor": 1
}
