{
 "cells": [
  {
   "cell_type": "markdown",
   "metadata": {
    "slideshow": {
     "slide_type": "slide"
    }
   },
   "source": [
    "# A sample presentation \n",
    "\n",
    "**Ty Coon**\n",
    "\n",
    "**Jobless Inc.**\n",
    "\n",
    "**TODAY**\n",
    "\n"
   ]
  },
  {
   "cell_type": "markdown",
   "metadata": {
    "slideshow": {
     "slide_type": "slide"
    }
   },
   "source": [
    "## Introduction\n"
   ]
  },
  {
   "cell_type": "markdown",
   "metadata": {
    "slideshow": {
     "slide_type": "slide"
    }
   },
   "source": [
    "## Test `math` \n",
    "\n",
    "* $\\alpha$ is Greek to me\n",
    "* So is $\\beta$\n",
    "$$\n",
    "    e^{i\\pi} = -1",
    "$$\n",
    "$$\n",
    "\\int\\sin(x) dx = -\\cos(x)",
    "$$\n"
   ]
  },
  {
   "cell_type": "markdown",
   "metadata": {
    "slideshow": {
     "slide_type": "slide"
    }
   },
   "source": [
    "### Pause!\n"
   ]
  },
  {
   "cell_type": "markdown",
   "metadata": {
    "slideshow": {
     "slide_type": "slide"
    }
   },
   "source": [
    "## Test the pause macro\n",
    "\n",
    "* item 1 *Emphasis!* "
   ]
  },
  {
   "cell_type": "markdown",
   "metadata": {
    "slideshow": {
     "slide_type": "fragment"
    }
   },
   "source": [
    "* item 2 **Bold!** \n"
   ]
  },
  {
   "cell_type": "code",
   "execution_count": null,
   "metadata": {
    "slideshow": {
     "slide_type": "-"
    }
   },
   "outputs": [],
   "source": [
    "    print 1\n"
   ]
  },
  {
   "cell_type": "code",
   "execution_count": null,
   "metadata": {
    "slideshow": {
     "slide_type": "fragment"
    }
   },
   "outputs": [],
   "source": [
    "    print 2\n"
   ]
  },
  {
   "cell_type": "markdown",
   "metadata": {
    "slideshow": {
     "slide_type": "-"
    }
   },
   "source": [
    "1. Numbered lists!\n",
    "1. Another item ...\n",
    "1. Some inline code with the `for`  keyword\n"
   ]
  },
  {
   "cell_type": "markdown",
   "metadata": {
    "slideshow": {
     "slide_type": "slide"
    }
   },
   "source": [
    "## Media\n"
   ]
  },
  {
   "cell_type": "markdown",
   "metadata": {
    "slideshow": {
     "slide_type": "slide"
    }
   },
   "source": [
    "## Now for some images\n",
    "  This will also work with local images but here is a non-local one.",
    "<img src=\"https://www.python.org/static/community_logos/python-logo-master-v3-TM.png\"/>\n  Using the includegraphics macro also works.",
    "<img src=\"https://www.python.org/static/community_logos/python-logo-master-v3-TM.png\"/>\n"
   ]
  },
  {
   "cell_type": "markdown",
   "metadata": {
    "slideshow": {
     "slide_type": "slide"
    }
   },
   "source": [
    "## Its show time!\n",
    "",
    "<div align=\"center\">\n",
    "<video loop controls src=\"https://upload.wikimedia.org/wikipedia/commons/c/c0/Big_Buck_Bunny_4K.webm\"/>\n",
    "</div>\n\n",
    "* Again this will work fine with local movies as well.\n",
    "* The browser needs to support the media though.\n"
   ]
  },
  {
   "cell_type": "markdown",
   "metadata": {
    "slideshow": {
     "slide_type": "slide"
    }
   },
   "source": [
    "## Miscellaneous\n",
    "\n",
    "* ",
    "<http://www.python.org> \n",
    "\n----\n",
    ">     I wish this were a real quote.\n"
   ]
  }
 ],
 "metadata": {
  "celltoolbar": "Slideshow",
  "language": "python",
  "livereveal": {
   "controls": true,
   "help": true,
   "scroll": true,
   "slideNumber": true,
   "transition": "none"
  }
 },
 "nbformat": 4,
 "nbformat_minor": 2
}
