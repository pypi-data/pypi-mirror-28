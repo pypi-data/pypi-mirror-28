{
 "cells": [
  {
   "cell_type": "code",
   "execution_count": 1,
   "metadata": {
    "ExecuteTime": {
     "end_time": "2018-01-27T23:56:10.234256Z",
     "start_time": "2018-01-27T23:56:09.703438Z"
    }
   },
   "outputs": [],
   "source": [
    "%load_ext autoreload\n",
    "%autoreload 2\n",
    "\n",
    "import pandas as pd\n",
    "\n",
    "from libcryptomarket.core import candles, latest_candles"
   ]
  },
  {
   "cell_type": "markdown",
   "metadata": {},
   "source": [
    "## Candles"
   ]
  },
  {
   "cell_type": "code",
   "execution_count": 17,
   "metadata": {
    "ExecuteTime": {
     "end_time": "2018-01-28T00:06:20.147882Z",
     "start_time": "2018-01-28T00:06:14.812410Z"
    },
    "scrolled": true
   },
   "outputs": [
    {
     "name": "stdout",
     "output_type": "stream",
     "text": [
      "Running exchange poloniex for instrument BTC_LTC\n",
      "Running exchange bitfinex for instrument tBTCUSD\n",
      "Running exchange gdax for instrument BTC-USD\n"
     ]
    }
   ],
   "source": [
    "for source, symbol in [\n",
    "        (\"poloniex\", \"BTC_LTC\"), \n",
    "        (\"bitfinex\", \"tBTCUSD\"),\n",
    "        (\"gdax\", \"BTC-USD\")]:\n",
    "    print(\"Running exchange {} for instrument {}\".format(source, symbol))\n",
    "    data = candles(source=source, symbol=symbol, \n",
    "                   start_time=pd.Timestamp(\"2017-12-15\"), end_time=pd.Timestamp(\"2017-12-31\"), frequency=\"1d\")\n",
    "    assert data[\"start_time\"].iloc[0] == pd.Timestamp(\"2017-12-15\")\n",
    "    assert data[\"end_time\"].iloc[-1] == pd.Timestamp(\"2017-12-31\")"
   ]
  },
  {
   "cell_type": "markdown",
   "metadata": {},
   "source": [
    "## Latest candles"
   ]
  },
  {
   "cell_type": "code",
   "execution_count": null,
   "metadata": {},
   "outputs": [],
   "source": [
    "for source, symbols in [\n",
    "        (\"poloniex\", [\"BTC_LTC\", \"BTC_ETH\"]), \n",
    "        (\"bitfinex\", [\"tBTCUSD\", \"tETHUSD\"])]:\n",
    "    print(\"Running exchange {} for instrument {}\".format(source, symbols))\n",
    "    data = latest_candles(source=source, symbols=symbols, frequency=\"30m\", frequency_count=1)\n",
    "    assert data.shape[0] == 1"
   ]
  },
  {
   "cell_type": "code",
   "execution_count": 10,
   "metadata": {
    "ExecuteTime": {
     "end_time": "2018-01-28T00:02:19.164726Z",
     "start_time": "2018-01-28T00:02:14.937305Z"
    }
   },
   "outputs": [],
   "source": [
    "data = candles(source=\"gdax\", symbol=\"BTC-USD\", \n",
    "               start_time=pd.Timestamp(\"2017-12-15\"), end_time=pd.Timestamp(\"2017-12-31\"), frequency=\"1d\")"
   ]
  }
 ],
 "metadata": {
  "kernelspec": {
   "display_name": "Python 3",
   "language": "python",
   "name": "python3"
  },
  "language_info": {
   "codemirror_mode": {
    "name": "ipython",
    "version": 3
   },
   "file_extension": ".py",
   "mimetype": "text/x-python",
   "name": "python",
   "nbconvert_exporter": "python",
   "pygments_lexer": "ipython3",
   "version": "3.5.2"
  }
 },
 "nbformat": 4,
 "nbformat_minor": 2
}
