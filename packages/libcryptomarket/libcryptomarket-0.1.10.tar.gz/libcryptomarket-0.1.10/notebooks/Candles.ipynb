{
 "cells": [
  {
   "cell_type": "code",
   "execution_count": 1,
   "metadata": {
    "ExecuteTime": {
     "end_time": "2018-01-31T15:32:12.633315Z",
     "start_time": "2018-01-31T15:32:11.476421Z"
    }
   },
   "outputs": [],
   "source": [
    "%load_ext autoreload\n",
    "%autoreload 2\n",
    "\n",
    "import pandas as pd\n",
    "\n",
    "from libcryptomarket.core import candles, latest_candles"
   ]
  },
  {
   "cell_type": "markdown",
   "metadata": {},
   "source": [
    "## Candles"
   ]
  },
  {
   "cell_type": "code",
   "execution_count": 2,
   "metadata": {
    "ExecuteTime": {
     "end_time": "2018-01-31T15:32:18.992459Z",
     "start_time": "2018-01-31T15:32:12.637992Z"
    },
    "scrolled": true
   },
   "outputs": [
    {
     "name": "stdout",
     "output_type": "stream",
     "text": [
      "Running exchange poloniex for instrument BTC_LTC\n",
      "Running exchange bitfinex for instrument tBTCUSD\n",
      "Running exchange gdax for instrument BTC-USD\n"
     ]
    }
   ],
   "source": [
    "for source, symbol in [\n",
    "        (\"poloniex\", \"BTC_LTC\"), \n",
    "        (\"bitfinex\", \"tBTCUSD\"),\n",
    "        (\"gdax\", \"BTC-USD\")]:\n",
    "    print(\"Running exchange {} for instrument {}\".format(source, symbol))\n",
    "    data = candles(source=source, symbol=symbol, \n",
    "                   start_time=pd.Timestamp(\"2017-12-15\"), end_time=pd.Timestamp(\"2017-12-31\"), frequency=\"1d\")\n",
    "    assert data[\"start_time\"].iloc[0] == pd.Timestamp(\"2017-12-15\")\n",
    "    assert data[\"end_time\"].iloc[-1] == pd.Timestamp(\"2017-12-31\")"
   ]
  },
  {
   "cell_type": "markdown",
   "metadata": {},
   "source": [
    "## Latest candles"
   ]
  },
  {
   "cell_type": "code",
   "execution_count": 5,
   "metadata": {
    "ExecuteTime": {
     "end_time": "2018-01-31T15:33:04.405264Z",
     "start_time": "2018-01-31T15:33:00.256283Z"
    }
   },
   "outputs": [
    {
     "name": "stdout",
     "output_type": "stream",
     "text": [
      "Running exchange poloniex for instrument ['BTC_LTC', 'BTC_ETH']\n"
     ]
    }
   ],
   "source": [
    "for source, symbols in [\n",
    "        (\"poloniex\", [\"BTC_LTC\", \"BTC_ETH\"]), \n",
    "        (\"bitfinex\", [\"tBTCUSD\", \"tETHUSD\"]),\n",
    "    ]:\n",
    "    print(\"Running exchange {} for instrument {}\".format(source, symbols))\n",
    "    data = latest_candles(source=source, symbols=symbols, frequency=\"30m\", frequency_count=1)\n",
    "    assert data.shape[0] == 1"
   ]
  },
  {
   "cell_type": "code",
   "execution_count": null,
   "metadata": {},
   "outputs": [],
   "source": []
  }
 ],
 "metadata": {
  "kernelspec": {
   "display_name": "Python 3",
   "language": "python",
   "name": "python3"
  },
  "language_info": {
   "codemirror_mode": {
    "name": "ipython",
    "version": 3
   },
   "file_extension": ".py",
   "mimetype": "text/x-python",
   "name": "python",
   "nbconvert_exporter": "python",
   "pygments_lexer": "ipython3",
   "version": "3.5.2"
  }
 },
 "nbformat": 4,
 "nbformat_minor": 2
}
