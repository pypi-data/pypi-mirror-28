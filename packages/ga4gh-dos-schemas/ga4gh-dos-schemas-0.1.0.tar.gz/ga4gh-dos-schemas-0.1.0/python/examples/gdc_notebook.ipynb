{
 "cells": [
  {
   "cell_type": "markdown",
   "metadata": {},
   "source": [
    "# GA4GH Data Access Example"
   ]
  },
  {
   "cell_type": "markdown",
   "metadata": {},
   "source": [
    "For this example, metadata have been loaded into a test data registry so they can be accessed using GA4GH methods. `python gdc_dos.py`"
   ]
  },
  {
   "cell_type": "markdown",
   "metadata": {},
   "source": [
    "## Import the client and models"
   ]
  },
  {
   "cell_type": "markdown",
   "metadata": {},
   "source": [
    "This will import a Python client and models for accessing data as defined in the schemas."
   ]
  },
  {
   "cell_type": "code",
   "execution_count": 18,
   "metadata": {},
   "outputs": [],
   "source": [
    "from ga4gh.dos.client import Client\n",
    "local_client = Client('http://localhost:8080/')\n",
    "client = local_client.client\n",
    "models = local_client.models"
   ]
  },
  {
   "cell_type": "markdown",
   "metadata": {},
   "source": [
    "## Listing Data Objects"
   ]
  },
  {
   "cell_type": "markdown",
   "metadata": {},
   "source": [
    "To list the existing Data Objects, we send a ListDataObjectsRequest to the `ListDataObjects` method!"
   ]
  },
  {
   "cell_type": "code",
   "execution_count": 19,
   "metadata": {},
   "outputs": [
    {
     "name": "stdout",
     "output_type": "stream",
     "text": [
      "Number of Data Objects: 1515 \n"
     ]
    }
   ],
   "source": [
    "ListDataObjectsRequest = models.get_model('ga4ghListDataObjectsRequest')\n",
    "list_request = client.ListDataObjects(body=ListDataObjectsRequest(page_size=10000000))\n",
    "list_response = list_request.result()\n",
    "print(\"Number of Data Objects: {} \".format(len(list_response.data_objects)))"
   ]
  },
  {
   "cell_type": "markdown",
   "metadata": {},
   "source": [
    "These Data Object messages are for testing purposes only but should contain enough to retrieve their contents from GDC servers."
   ]
  },
  {
   "cell_type": "code",
   "execution_count": 20,
   "metadata": {},
   "outputs": [
    {
     "name": "stdout",
     "output_type": "stream",
     "text": [
      "url: https://api.gdc.cancer.gov/data/4221fb8c-44e6-4e2a-9207-d8868cfb6ce5, file_size (B): 253864\n"
     ]
    }
   ],
   "source": [
    "data_objects = list_response.data_objects\n",
    "data_object = data_objects[11]\n",
    "print('url: {}, file_size (B): {}'.format(data_object.urls[0].url, data_object.size))"
   ]
  },
  {
   "cell_type": "markdown",
   "metadata": {},
   "source": [
    "## Filter Public Data"
   ]
  },
  {
   "cell_type": "markdown",
   "metadata": {},
   "source": [
    "We want to use this service to eventually download data, but first we must find data we have access to."
   ]
  },
  {
   "cell_type": "code",
   "execution_count": 21,
   "metadata": {},
   "outputs": [
    {
     "name": "stdout",
     "output_type": "stream",
     "text": [
      "Number of public Data Objects: 705\n"
     ]
    }
   ],
   "source": [
    "public_data_objects = filter(\n",
    "    lambda x: x['urls'][0]['system_metadata']['access'] == 'open', \n",
    "    data_objects)\n",
    "print('Number of public Data Objects: {}'.format(len(public_data_objects)))\n",
    "\n",
    "public_data_object = public_data_objects[0]"
   ]
  },
  {
   "cell_type": "markdown",
   "metadata": {},
   "source": [
    "## Download a file"
   ]
  },
  {
   "cell_type": "markdown",
   "metadata": {},
   "source": [
    "We can then download this file and name it."
   ]
  },
  {
   "cell_type": "code",
   "execution_count": 22,
   "metadata": {},
   "outputs": [],
   "source": [
    "import requests\n",
    "\n",
    "# https://stackoverflow.com/questions/16694907/how-to-download-large-file-in-python-with-requests-py\n",
    "def download_file(url, filename):\n",
    "    # NOTE the stream=True parameter\n",
    "    r = requests.get(url, stream=True)\n",
    "    with open(filename, 'wb') as f:\n",
    "        for chunk in r.iter_content(chunk_size=1024): \n",
    "            if chunk: # filter out keep-alive new chunks\n",
    "                f.write(chunk)\n",
    "                #f.flush() commented by recommendation from J.F.Sebastian\n",
    "    return filename"
   ]
  },
  {
   "cell_type": "code",
   "execution_count": 23,
   "metadata": {},
   "outputs": [
    {
     "data": {
      "text/plain": [
       "u'118933b6-86c7-4668-9973-424ece352a60.htseq.counts.gz'"
      ]
     },
     "execution_count": 23,
     "metadata": {},
     "output_type": "execute_result"
    }
   ],
   "source": [
    "download_file(public_data_object.urls[0].url, data_object.name)"
   ]
  },
  {
   "cell_type": "markdown",
   "metadata": {},
   "source": [
    "## Verify the checksum"
   ]
  },
  {
   "cell_type": "markdown",
   "metadata": {},
   "source": [
    "Data Object messages contain checksums of the underlying files. We can validate it here."
   ]
  },
  {
   "cell_type": "code",
   "execution_count": 24,
   "metadata": {},
   "outputs": [
    {
     "name": "stdout",
     "output_type": "stream",
     "text": [
      "[ga4ghChecksum(checksum=u'17b0e94c31294d25b8788ef3132693e7', type=u'md5')]\n"
     ]
    }
   ],
   "source": [
    "print(public_data_object.checksums)"
   ]
  },
  {
   "cell_type": "code",
   "execution_count": 25,
   "metadata": {},
   "outputs": [
    {
     "name": "stdout",
     "output_type": "stream",
     "text": [
      "17b0e94c31294d25b8788ef3132693e7\n",
      "17b0e94c31294d25b8788ef3132693e7\n",
      "True\n"
     ]
    }
   ],
   "source": [
    "given_checksum = public_data_object.checksums[0].checksum\n",
    "\n",
    "# https://stackoverflow.com/questions/3431825/generating-an-md5-checksum-of-a-file\n",
    "import hashlib\n",
    "def md5(fname):\n",
    "    hash_md5 = hashlib.md5()\n",
    "    with open(fname, \"rb\") as f:\n",
    "        for chunk in iter(lambda: f.read(4096), b\"\"):\n",
    "            hash_md5.update(chunk)\n",
    "    return hash_md5.hexdigest()\n",
    "\n",
    "print(md5(data_object.name))\n",
    "print(given_checksum)\n",
    "print(given_checksum == md5(data_object.name))"
   ]
  },
  {
   "cell_type": "markdown",
   "metadata": {},
   "source": [
    "## Visualizing the contents of the registry"
   ]
  },
  {
   "cell_type": "markdown",
   "metadata": {},
   "source": [
    "Here, we look at the file sizes of the contents of the registry. This is a histogram where each bin is a count of the number of files with a size in that range. We plot with a log axis because of the number of very small files dominates a linear scale."
   ]
  },
  {
   "cell_type": "code",
   "execution_count": 26,
   "metadata": {},
   "outputs": [
    {
     "data": {
      "image/png": "[encoded data removed]",
      "text/plain": [
       "<matplotlib.figure.Figure at 0x7fa6b603d4d0>"
      ]
     },
     "metadata": {},
     "output_type": "display_data"
    }
   ],
   "source": [
    "import matplotlib.pyplot as plt\n",
    "file_sizes = [float(x.size) for x in data_objects]\n",
    "plt.hist(file_sizes, bins=96)\n",
    "plt.title(\"n = {}, {} GB total, mean {} GB\".format(len(file_sizes), str(sum(file_sizes) / 1000000000.0), (sum(file_sizes) / len(file_sizes)) / 1000000000.0 ))\n",
    "plt.yscale('symlog')\n",
    "plt.show()"
   ]
  },
  {
   "cell_type": "markdown",
   "metadata": {},
   "source": [
    "Observe that most of the non-tiny files are around 2GB and a few files are very large."
   ]
  },
  {
   "cell_type": "markdown",
   "metadata": {
    "collapsed": true
   },
   "source": [
    "## Make a Data Bundle of some Data Objects"
   ]
  },
  {
   "cell_type": "markdown",
   "metadata": {},
   "source": [
    "We can now organize some of the Data Objects into a bundle so we can share them together. \n",
    "\n",
    "For example, a few publicly available items. First, we have to gather the list of data objects and compute their concatenated hash."
   ]
  },
  {
   "cell_type": "markdown",
   "metadata": {},
   "source": [
    "### Calculate the hash for our Objects"
   ]
  },
  {
   "cell_type": "code",
   "execution_count": 27,
   "metadata": {},
   "outputs": [
    {
     "name": "stdout",
     "output_type": "stream",
     "text": [
      "33ff00a8-87fd-4c0a-9bea-8024f5257a81\n",
      "17b0e94c31294d25b8788ef3132693e7\n",
      "cf7c1e22b0426059acab93cbe0645547\n"
     ]
    }
   ],
   "source": [
    "public_data_object_ids = [x.id for x in public_data_objects]\n",
    "print(public_data_object_ids[0])\n",
    "hashes = [x.checksums[0].checksum for x in public_data_objects]\n",
    "print(hashes[0])\n",
    "bundle_md5 = hashlib.md5()\n",
    "bundle_md5.update(''.join(hashes[0:10]))\n",
    "bundle_digest = bundle_md5.hexdigest()\n",
    "print(bundle_digest)"
   ]
  },
  {
   "cell_type": "markdown",
   "metadata": {},
   "source": [
    "### Create a new Data Bundle"
   ]
  },
  {
   "cell_type": "code",
   "execution_count": 28,
   "metadata": {},
   "outputs": [
    {
     "name": "stdout",
     "output_type": "stream",
     "text": [
      "10311cb8-0569-4dec-a263-138a0f394643\n"
     ]
    }
   ],
   "source": [
    "CreateDataBundleRequest = models.get_model('ga4ghCreateDataBundleRequest')\n",
    "DataBundle = models.get_model('ga4ghDataBundle')\n",
    "Checksum = models.get_model('ga4ghChecksum')\n",
    "my_bundle = DataBundle(\n",
    "    name=\"My Bundle\",\n",
    "    checksums=[Checksum(checksum=bundle_digest, type='md5')],\n",
    "    data_object_ids=public_data_object_ids[0:10],\n",
    "    aliases=[\"bundle-alias\", \"access:public\"])\n",
    "create_request = CreateDataBundleRequest(data_bundle=my_bundle)\n",
    "create_response = client.CreateDataBundle(body=create_request).result()\n",
    "print(create_response.data_bundle_id)"
   ]
  },
  {
   "cell_type": "markdown",
   "metadata": {},
   "source": [
    "Let's now verify the Data Bundle appears as expected:"
   ]
  },
  {
   "cell_type": "code",
   "execution_count": 29,
   "metadata": {},
   "outputs": [
    {
     "name": "stdout",
     "output_type": "stream",
     "text": [
      "[u'33ff00a8-87fd-4c0a-9bea-8024f5257a81', u'38f7de46-0e26-4f7e-bd76-0972cff8175e', u'e2b03c4a-bb71-4afa-ab86-d7243bca84a8', u'e36b3ac1-2d01-436a-88fe-5a88cff14a38', u'da07a798-73e4-4c2e-b1dc-558206750c80', u'9184e71b-fbfd-42f3-bb76-256fbce6c230', u'1e061265-2d0e-4b2d-93f6-fc8736f4178c', u'c1ac87f1-2464-44b4-a7f7-fed5e3dd2214', u'71f94630-e3ab-43ed-8901-49a401dc9f42', u'3ea489d2-7744-47ec-a88e-28f5a76f7355']\n"
     ]
    }
   ],
   "source": [
    "get_bundle_response = client.GetDataBundle(data_bundle_id=create_response.data_bundle_id).result()\n",
    "print(get_bundle_response.data_bundle.data_object_ids)"
   ]
  },
  {
   "cell_type": "code",
   "execution_count": null,
   "metadata": {},
   "outputs": [],
   "source": []
  }
 ],
 "metadata": {
  "kernelspec": {
   "display_name": "Python 2",
   "language": "python",
   "name": "python2"
  },
  "language_info": {
   "codemirror_mode": {
    "name": "ipython",
    "version": 2
   },
   "file_extension": ".py",
   "mimetype": "text/x-python",
   "name": "python",
   "nbconvert_exporter": "python",
   "pygments_lexer": "ipython2",
   "version": "2.7.12+"
  }
 },
 "nbformat": 4,
 "nbformat_minor": 1
}
